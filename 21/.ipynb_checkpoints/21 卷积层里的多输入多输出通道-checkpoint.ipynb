{
 "cells": [
  {
   "cell_type": "markdown",
   "id": "7e697d5d-d8b4-43b5-a038-11f3851aa577",
   "metadata": {},
   "source": [
    "# 卷积层里的多输入多输出通道"
   ]
  },
  {
   "cell_type": "markdown",
   "id": "ad79fd98-8856-4343-a0a9-207dbe5019ad",
   "metadata": {},
   "source": [
    "## 实现一下多输入通道互相关运算"
   ]
  },
  {
   "cell_type": "code",
   "execution_count": 3,
   "id": "673831c5-5f51-4d8f-9a2d-931c4d967ef5",
   "metadata": {},
   "outputs": [],
   "source": [
    "def corr2d(X, K):\n",
    "    h, w = K.shape\n",
    "    \"\"\"比如说K 3x3 , X 16x16 , 那Y 16-3+1=14 \"\"\"\n",
    "    Y = torch.zeros((X.shape[0] - h + 1, X.shape[1] - w + 1))\n",
    "    for i in range(Y.shape[0]):\n",
    "        for j in range(Y.shape[1]):\n",
    "            Y[i, j] = (X[i:i + h, j: j+w] * K).sum() # 很清楚了，这就是卷积！\n",
    "    return Y"
   ]
  },
  {
   "cell_type": "code",
   "execution_count": 17,
   "id": "cb167da6-c17b-4ff2-8bbc-4d7f8f7eda4b",
   "metadata": {},
   "outputs": [],
   "source": [
    "\n",
    "\n",
    "\n",
    "import torch\n",
    "from d2l import torch as d2l\n",
    "\n",
    "def corr2d_multi_in(X, K):\n",
    "    return sum(corr2d(x, k) for x, k in zip(X, K)) # 这里的for会对最外层做遍历\n",
    "\n",
    "\n",
    "\n"
   ]
  },
  {
   "cell_type": "markdown",
   "id": "d00289e0-f0a3-463d-8dcb-134124bb27f4",
   "metadata": {},
   "source": [
    "## 验证互相关运算的输出"
   ]
  },
  {
   "cell_type": "code",
   "execution_count": 12,
   "id": "c2ffaca7-34bd-4e48-a5a4-9643cbdd1232",
   "metadata": {},
   "outputs": [
    {
     "data": {
      "text/plain": [
       "(torch.Size([2, 3, 3]), torch.Size([2, 2, 2]))"
      ]
     },
     "execution_count": 12,
     "metadata": {},
     "output_type": "execute_result"
    }
   ],
   "source": [
    "X = torch.tensor([[[0.0, 1.0, 2.0], [3.0, 4.0, 5.0], [6.0, 7.0, 8.0]],\n",
    "                  [[1.0, 2.0, 3.0], [4.0, 5.0, 6.0], [7.0, 8.0, 9.0]]])\n",
    "K = torch.tensor([[[0.0, 1.0], [2.0, 3.0]], [[1.0, 2.0], [3.0, 4.0]]])\n",
    "X.shape, K.shape"
   ]
  },
  {
   "cell_type": "code",
   "execution_count": 11,
   "id": "c37f4b36-ae07-42fc-b406-f82c5c20ecc4",
   "metadata": {},
   "outputs": [
    {
     "data": {
      "text/plain": [
       "tensor([[ 56.,  72.],\n",
       "        [104., 120.]])"
      ]
     },
     "execution_count": 11,
     "metadata": {},
     "output_type": "execute_result"
    }
   ],
   "source": [
    "corr2d_multi_in(X, K)"
   ]
  },
  {
   "cell_type": "code",
   "execution_count": 18,
   "id": "5ca7f290-1d70-49dc-bf2c-14e1034a0ed7",
   "metadata": {},
   "outputs": [
    {
     "data": {
      "text/plain": [
       "[tensor([[19., 25.],\n",
       "         [37., 43.]]),\n",
       " tensor([[37., 47.],\n",
       "         [67., 77.]])]"
      ]
     },
     "execution_count": 18,
     "metadata": {},
     "output_type": "execute_result"
    }
   ],
   "source": [
    "list(corr2d(x, k) for x, k in zip(X, K))"
   ]
  },
  {
   "cell_type": "code",
   "execution_count": null,
   "id": "c4f510b3-087e-4ce1-9ca0-c8d5109e791d",
   "metadata": {},
   "outputs": [],
   "source": []
  },
  {
   "cell_type": "code",
   "execution_count": 20,
   "id": "8c9b233b-16da-480c-8395-5e52e93bb918",
   "metadata": {},
   "outputs": [
    {
     "name": "stdout",
     "output_type": "stream",
     "text": [
      "1\n",
      "1\n"
     ]
    }
   ],
   "source": [
    "for x, k in zip(X, K):\n",
    "    print('1')"
   ]
  },
  {
   "cell_type": "code",
   "execution_count": null,
   "id": "877048aa-3c69-479b-870e-39bcd2fc806f",
   "metadata": {},
   "outputs": [],
   "source": []
  },
  {
   "cell_type": "code",
   "execution_count": null,
   "id": "5ad1fa6c-cba6-4a69-b6c2-819b4c5758ca",
   "metadata": {},
   "outputs": [],
   "source": []
  },
  {
   "cell_type": "code",
   "execution_count": null,
   "id": "ed8ab70d-c6ce-477d-befb-f1da3bac536a",
   "metadata": {},
   "outputs": [],
   "source": []
  },
  {
   "cell_type": "code",
   "execution_count": null,
   "id": "c114f03b-8eec-4faa-bed3-e92a9897216d",
   "metadata": {},
   "outputs": [],
   "source": []
  },
  {
   "cell_type": "markdown",
   "id": "829f51b6-51b8-4158-af66-bcb18775ecbe",
   "metadata": {},
   "source": [
    "## 计算多个通道的输出的互相关函数"
   ]
  },
  {
   "cell_type": "code",
   "execution_count": 31,
   "id": "5385da7c-b98c-4413-acd5-57da52da4f10",
   "metadata": {},
   "outputs": [
    {
     "data": {
      "text/plain": [
       "(torch.Size([2, 3, 3]), torch.Size([2, 2, 2]))"
      ]
     },
     "execution_count": 31,
     "metadata": {},
     "output_type": "execute_result"
    }
   ],
   "source": [
    "X = torch.tensor([[[0.0, 1.0, 2.0], [3.0, 4.0, 5.0], [6.0, 7.0, 8.0]],\n",
    "                  [[1.0, 2.0, 3.0], [4.0, 5.0, 6.0], [7.0, 8.0, 9.0]]])\n",
    "K = torch.tensor([[[0.0, 1.0], [2.0, 3.0]], [[1.0, 2.0], [3.0, 4.0]]])\n",
    "X.shape, K.shape"
   ]
  },
  {
   "cell_type": "code",
   "execution_count": 25,
   "id": "d658f66b-874d-45ec-abb9-2338f9af59fc",
   "metadata": {},
   "outputs": [],
   "source": [
    "def corr2d_multi_in_out(X, K):\n",
    "    return torch.stack([corr2d_multi_in(X, k) for k in K], 0)"
   ]
  },
  {
   "cell_type": "code",
   "execution_count": 32,
   "id": "89775f51-f6fd-4865-b59d-8ac6e03f06a9",
   "metadata": {},
   "outputs": [
    {
     "data": {
      "text/plain": [
       "tensor([[[0., 1.],\n",
       "         [2., 3.]],\n",
       "\n",
       "        [[1., 2.],\n",
       "         [3., 4.]]])"
      ]
     },
     "execution_count": 32,
     "metadata": {},
     "output_type": "execute_result"
    }
   ],
   "source": [
    "K"
   ]
  },
  {
   "cell_type": "code",
   "execution_count": 33,
   "id": "1f6f76d2-dba3-49c4-90c3-7d267ee76bd3",
   "metadata": {},
   "outputs": [
    {
     "data": {
      "text/plain": [
       "tensor([[[1., 2.],\n",
       "         [3., 4.]],\n",
       "\n",
       "        [[2., 3.],\n",
       "         [4., 5.]]])"
      ]
     },
     "execution_count": 33,
     "metadata": {},
     "output_type": "execute_result"
    }
   ],
   "source": [
    "K+1"
   ]
  },
  {
   "cell_type": "code",
   "execution_count": 34,
   "id": "709d903f-47e3-4e77-b5dc-44cad18626d2",
   "metadata": {},
   "outputs": [
    {
     "data": {
      "text/plain": [
       "torch.Size([3, 2, 2, 2])"
      ]
     },
     "execution_count": 34,
     "metadata": {},
     "output_type": "execute_result"
    }
   ],
   "source": [
    "K = torch.stack((K,K+1,K+2),0)\n",
    "K.shape"
   ]
  },
  {
   "cell_type": "code",
   "execution_count": 35,
   "id": "dda5a516-74d5-4673-9d54-a5ba9e493db6",
   "metadata": {},
   "outputs": [
    {
     "data": {
      "text/plain": [
       "tensor([[[ 56.,  72.],\n",
       "         [104., 120.]],\n",
       "\n",
       "        [[ 76., 100.],\n",
       "         [148., 172.]],\n",
       "\n",
       "        [[ 96., 128.],\n",
       "         [192., 224.]]])"
      ]
     },
     "execution_count": 35,
     "metadata": {},
     "output_type": "execute_result"
    }
   ],
   "source": [
    "corr2d_multi_in_out(X,K)"
   ]
  },
  {
   "cell_type": "code",
   "execution_count": null,
   "id": "f6cb607e-230e-46f9-99d4-fa7a77127af0",
   "metadata": {},
   "outputs": [],
   "source": []
  },
  {
   "cell_type": "code",
   "execution_count": null,
   "id": "f2810c87-2bef-4ce5-83c1-342c3dda6e78",
   "metadata": {},
   "outputs": [],
   "source": []
  },
  {
   "cell_type": "code",
   "execution_count": null,
   "id": "1315ee58-f326-494c-ba96-6aa66d9648bd",
   "metadata": {},
   "outputs": [],
   "source": []
  },
  {
   "cell_type": "code",
   "execution_count": null,
   "id": "0b7cb141-04db-40a6-98bd-aad833e29847",
   "metadata": {},
   "outputs": [],
   "source": []
  },
  {
   "cell_type": "markdown",
   "id": "9f1722df-6cbb-4422-89d5-cb1d0beff569",
   "metadata": {},
   "source": [
    "## 1x1卷积"
   ]
  },
  {
   "cell_type": "code",
   "execution_count": 43,
   "id": "cfe52235-6e52-4820-b231-f1b0f35d5966",
   "metadata": {},
   "outputs": [],
   "source": [
    "def corr2d_multi_in_out_1x1(X, K):\n",
    "    c_i, h, w = X.shape\n",
    "    c_o = K.shape[0]\n",
    "    print(f'orig X:{X.shape}')\n",
    "    X = X.reshape((c_i, h*w))\n",
    "    print(f'reshape X:{X.shape}')\n",
    "    print(' ')\n",
    "    print(f'orig K:{K.shape}')\n",
    "    K = K.reshape((c_o, c_i))\n",
    "    print(f'reshape K:{K.shape}')\n",
    "    print(' ')\n",
    "    Y = torch.matmul(K, X)\n",
    "    print(f'orig Y:{Y.shape}')\n",
    "    print(f'reshape Y:{Y.reshape((c_o, h, w)).shape}')\n",
    "    return Y.reshape((c_o, h, w))"
   ]
  },
  {
   "cell_type": "code",
   "execution_count": 38,
   "id": "501bdb5f-f91c-4bbe-8df2-a4c6207f4d40",
   "metadata": {},
   "outputs": [
    {
     "data": {
      "text/plain": [
       "(torch.Size([3, 3, 3]), torch.Size([2, 3, 1, 1]))"
      ]
     },
     "execution_count": 38,
     "metadata": {},
     "output_type": "execute_result"
    }
   ],
   "source": [
    "X = torch.normal(0, 1, (3, 3, 3))\n",
    "K = torch.normal(0, 1, (2, 3, 1, 1))\n",
    "X.shape, K.shape"
   ]
  },
  {
   "cell_type": "code",
   "execution_count": 44,
   "id": "720cdc29-6f41-4767-ad37-992a7f1143b3",
   "metadata": {},
   "outputs": [
    {
     "name": "stdout",
     "output_type": "stream",
     "text": [
      "orig X:torch.Size([3, 3, 3])\n",
      "reshape X:torch.Size([3, 9])\n",
      " \n",
      "orig K:torch.Size([2, 3, 1, 1])\n",
      "reshape K:torch.Size([2, 3])\n",
      " \n",
      "orig Y:torch.Size([2, 9])\n",
      "reshape Y:torch.Size([2, 3, 3])\n"
     ]
    }
   ],
   "source": [
    "Y1 = corr2d_multi_in_out_1x1(X, K)\n",
    "Y2 = corr2d_multi_in_out(X, K)"
   ]
  },
  {
   "cell_type": "code",
   "execution_count": 45,
   "id": "fd79fa3b-063b-44c7-b636-8f696be6c387",
   "metadata": {},
   "outputs": [],
   "source": [
    "assert float(torch.abs(Y1 - Y2).sum()) < 1e-6"
   ]
  },
  {
   "cell_type": "code",
   "execution_count": null,
   "id": "80cd6c57-d83a-4723-9b9b-33ee14830f16",
   "metadata": {},
   "outputs": [],
   "source": []
  },
  {
   "cell_type": "code",
   "execution_count": null,
   "id": "4faad557-553f-43ca-b2f2-dea389d08490",
   "metadata": {},
   "outputs": [],
   "source": []
  }
 ],
 "metadata": {
  "kernelspec": {
   "display_name": "Python 3 (ipykernel)",
   "language": "python",
   "name": "python3"
  },
  "language_info": {
   "codemirror_mode": {
    "name": "ipython",
    "version": 3
   },
   "file_extension": ".py",
   "mimetype": "text/x-python",
   "name": "python",
   "nbconvert_exporter": "python",
   "pygments_lexer": "ipython3",
   "version": "3.8.20"
  }
 },
 "nbformat": 4,
 "nbformat_minor": 5
}
