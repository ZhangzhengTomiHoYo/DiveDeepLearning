{
 "cells": [
  {
   "cell_type": "code",
   "execution_count": 1,
   "id": "d579dc8d-5ff2-4d96-88c2-b43efa2dbf50",
   "metadata": {},
   "outputs": [],
   "source": [
    "import torch\n",
    "from torch import nn\n",
    "from d2l import torch as d2l"
   ]
  },
  {
   "cell_type": "code",
   "execution_count": 94,
   "id": "38a93499-3427-4148-9236-471177b085f4",
   "metadata": {},
   "outputs": [],
   "source": [
    "def vgg_block(num_convs, in_channels, out_channels):\n",
    "    layers = []\n",
    "    for _ in range(num_convs):\n",
    "        layers.append(nn.Conv2d(\n",
    "            in_channels, out_channels, kernel_size=3, padding=1))\n",
    "        layers.append(nn.ReLU())\n",
    "        in_channels = out_channels\n",
    "    layers.append(nn.MaxPool2d(kernel_size=2,stride=2))\n",
    "    return nn.Sequential(*layers)"
   ]
  },
  {
   "cell_type": "code",
   "execution_count": 101,
   "id": "abe1cd8e-601f-4a7e-94dd-76acff7e5d8e",
   "metadata": {},
   "outputs": [
    {
     "data": {
      "text/plain": [
       "torch.Size([1, 1, 512, 512])"
      ]
     },
     "execution_count": 101,
     "metadata": {},
     "output_type": "execute_result"
    }
   ],
   "source": [
    "tensor = torch.randn(1,1,512,512)\n",
    "tensor.shape"
   ]
  },
  {
   "cell_type": "code",
   "execution_count": 104,
   "id": "156515e5-fce8-4ed8-bfdd-4b2d1ed8ea44",
   "metadata": {},
   "outputs": [
    {
     "name": "stdout",
     "output_type": "stream",
     "text": [
      "Conv2d shape \t: torch.Size([1, 64, 512, 512])\n",
      "ReLU shape \t: torch.Size([1, 64, 512, 512])\n",
      "MaxPool2d shape \t: torch.Size([1, 64, 256, 256])\n",
      "-----------------\n",
      "Conv2d shape \t: torch.Size([1, 128, 256, 256])\n",
      "ReLU shape \t: torch.Size([1, 128, 256, 256])\n",
      "MaxPool2d shape \t: torch.Size([1, 128, 128, 128])\n"
     ]
    }
   ],
   "source": [
    "block = vgg_block(1,1,64)\n",
    "X = tensor\n",
    "for layer in block:\n",
    "    X = layer(X)\n",
    "    print(layer.__class__.__name__, 'shape \\t:',X.shape)\n",
    "\n",
    "print('-----------------')\n",
    "\n",
    "block2 = vgg_block(1,64,128)\n",
    "for layer in block2:\n",
    "    X = layer(X)\n",
    "    print(layer.__class__.__name__, 'shape \\t:',X.shape)"
   ]
  },
  {
   "cell_type": "code",
   "execution_count": 106,
   "id": "4f57495a-039d-4020-928f-b2ec2d93d918",
   "metadata": {},
   "outputs": [],
   "source": [
    "conv_arch = ((1,64),(1,128),(2,256),(2,512),(2,512))\n",
    "def vgg(conv_arch):\n",
    "    conv_blks = []\n",
    "    in_channels = 1\n",
    "    for(num_convs, out_channels) in conv_arch:\n",
    "        conv_blks.append(vgg_block(\n",
    "            num_convs, in_channels, out_channels))\n",
    "        in_channels = out_channels\n",
    "        print(\"看这里\"+str(out_channels))\n",
    "    return nn.Sequential(\n",
    "        *conv_blks, nn.Flatten(),\n",
    "        nn.Linear(out_channels*16*16,4096),nn.ReLU(), # 这个7*7 很 妙啊 是怎么确定的\n",
    "        nn.Dropout(0.5), nn.Linear(4096,4096),nn.ReLU(),\n",
    "        nn.Dropout(0.5), nn.Linear(4096,10))"
   ]
  },
  {
   "cell_type": "code",
   "execution_count": 107,
   "id": "c0241cc3-3596-41f5-a159-c5585f3c1e95",
   "metadata": {},
   "outputs": [
    {
     "name": "stdout",
     "output_type": "stream",
     "text": [
      "看这里64\n",
      "看这里128\n",
      "看这里256\n",
      "看这里512\n",
      "看这里512\n"
     ]
    }
   ],
   "source": [
    "net = vgg(conv_arch)"
   ]
  },
  {
   "cell_type": "code",
   "execution_count": 108,
   "id": "19c3d6a2-7f4f-4e6d-9856-9b798ec58fe6",
   "metadata": {},
   "outputs": [
    {
     "name": "stdout",
     "output_type": "stream",
     "text": [
      "Sequential output shape:\t torch.Size([1, 64, 256, 256])\n",
      "Sequential output shape:\t torch.Size([1, 128, 128, 128])\n",
      "Sequential output shape:\t torch.Size([1, 256, 64, 64])\n",
      "Sequential output shape:\t torch.Size([1, 512, 32, 32])\n",
      "Sequential output shape:\t torch.Size([1, 512, 16, 16])\n",
      "Flatten output shape:\t torch.Size([1, 131072])\n",
      "Linear output shape:\t torch.Size([1, 4096])\n",
      "ReLU output shape:\t torch.Size([1, 4096])\n",
      "Dropout output shape:\t torch.Size([1, 4096])\n",
      "Linear output shape:\t torch.Size([1, 4096])\n",
      "ReLU output shape:\t torch.Size([1, 4096])\n",
      "Dropout output shape:\t torch.Size([1, 4096])\n",
      "Linear output shape:\t torch.Size([1, 10])\n"
     ]
    }
   ],
   "source": [
    "X = torch.randn(size=(1, 1, 512, 512))\n",
    "for blk in net:\n",
    "    X = blk(X)\n",
    "    print(blk.__class__.__name__, 'output shape:\\t', X.shape)"
   ]
  },
  {
   "cell_type": "code",
   "execution_count": null,
   "id": "5f70e84c-9893-4cd3-a24e-6f4a60521113",
   "metadata": {},
   "outputs": [],
   "source": []
  }
 ],
 "metadata": {
  "kernelspec": {
   "display_name": "Python 3 (ipykernel)",
   "language": "python",
   "name": "python3"
  },
  "language_info": {
   "codemirror_mode": {
    "name": "ipython",
    "version": 3
   },
   "file_extension": ".py",
   "mimetype": "text/x-python",
   "name": "python",
   "nbconvert_exporter": "python",
   "pygments_lexer": "ipython3",
   "version": "3.8.20"
  }
 },
 "nbformat": 4,
 "nbformat_minor": 5
}
