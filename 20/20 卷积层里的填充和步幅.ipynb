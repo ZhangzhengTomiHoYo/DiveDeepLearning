{
 "cells": [
  {
   "cell_type": "markdown",
   "id": "ffcd9e2b-da20-470a-b3c9-dfe24a9fdcad",
   "metadata": {},
   "source": [
    "# 填充和步幅"
   ]
  },
  {
   "cell_type": "markdown",
   "id": "a612ccaa-0edf-400d-a305-093cd3a8b8a3",
   "metadata": {},
   "source": [
    "## 在所有侧边填充一个像素"
   ]
  },
  {
   "cell_type": "code",
   "execution_count": 3,
   "id": "af74bf05-048c-4f9e-8100-3bc8ae9e6f04",
   "metadata": {},
   "outputs": [
    {
     "name": "stdout",
     "output_type": "stream",
     "text": [
      "0:torch.Size([8, 8])\n",
      "1:torch.Size([1, 1, 8, 8])\n"
     ]
    },
    {
     "data": {
      "text/plain": [
       "torch.Size([8, 8])"
      ]
     },
     "execution_count": 3,
     "metadata": {},
     "output_type": "execute_result"
    }
   ],
   "source": [
    "import torch\n",
    "from torch import nn\n",
    "\n",
    "def comp_conv2d(conv2d, X):\n",
    "    print(f'0:{X.shape}')\n",
    "    X = X.reshape((1,1) + X.shape) # 什么傻逼写法， 哦，元组连接\n",
    "    print(f'1:{X.shape}')\n",
    "    Y = conv2d(X)\n",
    "    return Y.reshape(Y.shape[2:])\n",
    "\n",
    "conv2d = nn.Conv2d(1,1,kernel_size=3,padding=1) # 关键 是这个 padding ，上下左右 各 1行，不是一共\n",
    "X = torch.rand(size=(8,8))\n",
    "comp_conv2d(conv2d, X).shape"
   ]
  },
  {
   "cell_type": "markdown",
   "id": "812ad375-99b8-4cf5-8171-c4bbb8ea76ce",
   "metadata": {},
   "source": [
    "## 填充不同的高度和宽度"
   ]
  },
  {
   "cell_type": "code",
   "execution_count": 4,
   "id": "d550a341-2dc6-488c-8830-54fa0ff2c3a8",
   "metadata": {},
   "outputs": [
    {
     "name": "stdout",
     "output_type": "stream",
     "text": [
      "0:torch.Size([8, 8])\n",
      "1:torch.Size([1, 1, 8, 8])\n"
     ]
    },
    {
     "data": {
      "text/plain": [
       "torch.Size([8, 8])"
      ]
     },
     "execution_count": 4,
     "metadata": {},
     "output_type": "execute_result"
    }
   ],
   "source": [
    "conv2d = nn.Conv2d(1,1,kernel_size=(5,3),padding=(2,1))\n",
    "comp_conv2d(conv2d, X).shape"
   ]
  },
  {
   "cell_type": "code",
   "execution_count": null,
   "id": "b9c0084a-b88c-45b1-a769-355a5e5b6eb1",
   "metadata": {},
   "outputs": [],
   "source": []
  },
  {
   "cell_type": "code",
   "execution_count": null,
   "id": "5a78714a-95a5-475d-8d67-85fdd9e0d459",
   "metadata": {},
   "outputs": [],
   "source": []
  },
  {
   "cell_type": "markdown",
   "id": "022f29a9-b1fb-41a7-9277-a2b40f152eb0",
   "metadata": {},
   "source": [
    "# 将高度和宽度的步幅设置为2"
   ]
  },
  {
   "cell_type": "code",
   "execution_count": 5,
   "id": "3c0a19c2-a20c-4e11-afef-84263bde5957",
   "metadata": {},
   "outputs": [
    {
     "name": "stdout",
     "output_type": "stream",
     "text": [
      "0:torch.Size([8, 8])\n",
      "1:torch.Size([1, 1, 8, 8])\n"
     ]
    },
    {
     "data": {
      "text/plain": [
       "torch.Size([4, 4])"
      ]
     },
     "execution_count": 5,
     "metadata": {},
     "output_type": "execute_result"
    }
   ],
   "source": [
    "conv2d = nn.Conv2d(1,1,kernel_size=3,padding=1,stride=2)\n",
    "comp_conv2d(conv2d, X).shape"
   ]
  },
  {
   "cell_type": "markdown",
   "id": "81dff284-5e25-434b-bcc1-dccb595f6617",
   "metadata": {},
   "source": [
    "## 一个稍微复杂的例子"
   ]
  },
  {
   "cell_type": "code",
   "execution_count": 6,
   "id": "cdf0e1b3-15b1-4562-a080-011ab23956ae",
   "metadata": {},
   "outputs": [
    {
     "name": "stdout",
     "output_type": "stream",
     "text": [
      "0:torch.Size([8, 8])\n",
      "1:torch.Size([1, 1, 8, 8])\n"
     ]
    },
    {
     "data": {
      "text/plain": [
       "torch.Size([2, 2])"
      ]
     },
     "execution_count": 6,
     "metadata": {},
     "output_type": "execute_result"
    }
   ],
   "source": [
    "conv2d = nn.Conv2d(1,1,kernel_size=(3,5),padding=(0,1),stride=(3,4))\n",
    "comp_conv2d(conv2d, X).shape\n",
    "# 8-3+0+3)/3   8-5+2+4)/4"
   ]
  },
  {
   "cell_type": "code",
   "execution_count": null,
   "id": "9ac3d3fa-67b2-4ed1-9430-dc86fd6a170b",
   "metadata": {},
   "outputs": [],
   "source": []
  },
  {
   "cell_type": "code",
   "execution_count": null,
   "id": "05b86fbc-e6ee-4c95-b007-94da8414a871",
   "metadata": {},
   "outputs": [],
   "source": []
  }
 ],
 "metadata": {
  "kernelspec": {
   "display_name": "Python 3 (ipykernel)",
   "language": "python",
   "name": "python3"
  },
  "language_info": {
   "codemirror_mode": {
    "name": "ipython",
    "version": 3
   },
   "file_extension": ".py",
   "mimetype": "text/x-python",
   "name": "python",
   "nbconvert_exporter": "python",
   "pygments_lexer": "ipython3",
   "version": "3.8.20"
  }
 },
 "nbformat": 4,
 "nbformat_minor": 5
}
