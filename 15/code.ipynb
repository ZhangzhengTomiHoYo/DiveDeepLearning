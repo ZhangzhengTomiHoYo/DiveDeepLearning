{
 "cells": [
  {
   "cell_type": "code",
   "execution_count": 1,
   "metadata": {},
   "outputs": [],
   "source": [
    "import numpy as np\n",
    "import pandas as pd\n",
    "import os"
   ]
  },
  {
   "cell_type": "code",
   "execution_count": 2,
   "metadata": {},
   "outputs": [
    {
     "name": "stdout",
     "output_type": "stream",
     "text": [
      "./california-house-prices\n",
      "./california-house-prices\\sample_submission.csv\n",
      "./california-house-prices\\test.csv\n",
      "./california-house-prices\\train.csv\n"
     ]
    }
   ],
   "source": [
    "for dirname, _, filenames in os.walk('./california-house-prices'):\n",
    "    print(dirname)\n",
    "    for filename in filenames:\n",
    "        print(os.path.join(dirname, filename))"
   ]
  },
  {
   "cell_type": "code",
   "execution_count": 3,
   "metadata": {},
   "outputs": [],
   "source": [
    "train_data = pd.read_csv('./california-house-prices/train.csv')\n",
    "test_data = pd.read_csv('./california-house-prices/test.csv')"
   ]
  },
  {
   "cell_type": "code",
   "execution_count": 4,
   "metadata": {},
   "outputs": [
    {
     "data": {
      "text/plain": [
       "((47439, 41), (31626, 40))"
      ]
     },
     "execution_count": 4,
     "metadata": {},
     "output_type": "execute_result"
    }
   ],
   "source": [
    "train_data.shape, test_data.shape"
   ]
  },
  {
   "cell_type": "code",
   "execution_count": 5,
   "metadata": {},
   "outputs": [
    {
     "data": {
      "text/html": [
       "<div>\n",
       "<style scoped>\n",
       "    .dataframe tbody tr th:only-of-type {\n",
       "        vertical-align: middle;\n",
       "    }\n",
       "\n",
       "    .dataframe tbody tr th {\n",
       "        vertical-align: top;\n",
       "    }\n",
       "\n",
       "    .dataframe thead th {\n",
       "        text-align: right;\n",
       "    }\n",
       "</style>\n",
       "<table border=\"1\" class=\"dataframe\">\n",
       "  <thead>\n",
       "    <tr style=\"text-align: right;\">\n",
       "      <th></th>\n",
       "      <th>Id</th>\n",
       "      <th>Address</th>\n",
       "      <th>Sold Price</th>\n",
       "      <th>Summary</th>\n",
       "      <th>Type</th>\n",
       "      <th>Year built</th>\n",
       "      <th>Heating</th>\n",
       "      <th>Cooling</th>\n",
       "      <th>Parking</th>\n",
       "      <th>Lot</th>\n",
       "      <th>...</th>\n",
       "      <th>Parking features</th>\n",
       "      <th>Tax assessed value</th>\n",
       "      <th>Annual tax amount</th>\n",
       "      <th>Listed On</th>\n",
       "      <th>Listed Price</th>\n",
       "      <th>Last Sold On</th>\n",
       "      <th>Last Sold Price</th>\n",
       "      <th>City</th>\n",
       "      <th>Zip</th>\n",
       "      <th>State</th>\n",
       "    </tr>\n",
       "  </thead>\n",
       "  <tbody>\n",
       "    <tr>\n",
       "      <th>0</th>\n",
       "      <td>0</td>\n",
       "      <td>540 Pine Ln</td>\n",
       "      <td>3825000.0</td>\n",
       "      <td>540 Pine Ln, Los Altos, CA 94022 is a single f...</td>\n",
       "      <td>SingleFamily</td>\n",
       "      <td>1969.0</td>\n",
       "      <td>Heating - 2+ Zones, Central Forced Air - Gas</td>\n",
       "      <td>Multi-Zone, Central AC, Whole House / Attic Fan</td>\n",
       "      <td>Garage, Garage - Attached, Covered</td>\n",
       "      <td>1.0</td>\n",
       "      <td>...</td>\n",
       "      <td>Garage, Garage - Attached, Covered</td>\n",
       "      <td>886486.0</td>\n",
       "      <td>12580.0</td>\n",
       "      <td>2019-10-24</td>\n",
       "      <td>4198000.0</td>\n",
       "      <td>NaN</td>\n",
       "      <td>NaN</td>\n",
       "      <td>Los Altos</td>\n",
       "      <td>94022</td>\n",
       "      <td>CA</td>\n",
       "    </tr>\n",
       "  </tbody>\n",
       "</table>\n",
       "<p>1 rows × 41 columns</p>\n",
       "</div>"
      ],
      "text/plain": [
       "   Id      Address  Sold Price  \\\n",
       "0   0  540 Pine Ln   3825000.0   \n",
       "\n",
       "                                             Summary          Type  \\\n",
       "0  540 Pine Ln, Los Altos, CA 94022 is a single f...  SingleFamily   \n",
       "\n",
       "   Year built                                       Heating  \\\n",
       "0      1969.0  Heating - 2+ Zones, Central Forced Air - Gas   \n",
       "\n",
       "                                           Cooling  \\\n",
       "0  Multi-Zone, Central AC, Whole House / Attic Fan   \n",
       "\n",
       "                              Parking  Lot  ...  \\\n",
       "0  Garage, Garage - Attached, Covered  1.0  ...   \n",
       "\n",
       "                     Parking features  Tax assessed value  Annual tax amount  \\\n",
       "0  Garage, Garage - Attached, Covered            886486.0            12580.0   \n",
       "\n",
       "    Listed On  Listed Price  Last Sold On Last Sold Price       City    Zip  \\\n",
       "0  2019-10-24     4198000.0           NaN             NaN  Los Altos  94022   \n",
       "\n",
       "   State  \n",
       "0     CA  \n",
       "\n",
       "[1 rows x 41 columns]"
      ]
     },
     "execution_count": 5,
     "metadata": {},
     "output_type": "execute_result"
    }
   ],
   "source": [
    "train_data.head(1)"
   ]
  },
  {
   "cell_type": "code",
   "execution_count": 6,
   "metadata": {},
   "outputs": [
    {
     "data": {
      "text/html": [
       "<div>\n",
       "<style scoped>\n",
       "    .dataframe tbody tr th:only-of-type {\n",
       "        vertical-align: middle;\n",
       "    }\n",
       "\n",
       "    .dataframe tbody tr th {\n",
       "        vertical-align: top;\n",
       "    }\n",
       "\n",
       "    .dataframe thead th {\n",
       "        text-align: right;\n",
       "    }\n",
       "</style>\n",
       "<table border=\"1\" class=\"dataframe\">\n",
       "  <thead>\n",
       "    <tr style=\"text-align: right;\">\n",
       "      <th></th>\n",
       "      <th>Id</th>\n",
       "      <th>Address</th>\n",
       "      <th>Summary</th>\n",
       "      <th>Type</th>\n",
       "      <th>Year built</th>\n",
       "      <th>Heating</th>\n",
       "      <th>Cooling</th>\n",
       "      <th>Parking</th>\n",
       "      <th>Lot</th>\n",
       "      <th>Bedrooms</th>\n",
       "      <th>...</th>\n",
       "      <th>Parking features</th>\n",
       "      <th>Tax assessed value</th>\n",
       "      <th>Annual tax amount</th>\n",
       "      <th>Listed On</th>\n",
       "      <th>Listed Price</th>\n",
       "      <th>Last Sold On</th>\n",
       "      <th>Last Sold Price</th>\n",
       "      <th>City</th>\n",
       "      <th>Zip</th>\n",
       "      <th>State</th>\n",
       "    </tr>\n",
       "  </thead>\n",
       "  <tbody>\n",
       "    <tr>\n",
       "      <th>0</th>\n",
       "      <td>47439</td>\n",
       "      <td>3034 N Coolidge Ave</td>\n",
       "      <td>Live within steps to the scenic views on the L...</td>\n",
       "      <td>SingleFamily</td>\n",
       "      <td>2020.0</td>\n",
       "      <td>Central</td>\n",
       "      <td>Central Air</td>\n",
       "      <td>Tandem Uncovered</td>\n",
       "      <td>940.0</td>\n",
       "      <td>2</td>\n",
       "      <td>...</td>\n",
       "      <td>Tandem Uncovered</td>\n",
       "      <td>NaN</td>\n",
       "      <td>NaN</td>\n",
       "      <td>2020-11-06</td>\n",
       "      <td>799900.0</td>\n",
       "      <td>2020-07-01</td>\n",
       "      <td>819000.0</td>\n",
       "      <td>Dodgertown</td>\n",
       "      <td>90090</td>\n",
       "      <td>CA</td>\n",
       "    </tr>\n",
       "  </tbody>\n",
       "</table>\n",
       "<p>1 rows × 40 columns</p>\n",
       "</div>"
      ],
      "text/plain": [
       "      Id              Address  \\\n",
       "0  47439  3034 N Coolidge Ave   \n",
       "\n",
       "                                             Summary          Type  \\\n",
       "0  Live within steps to the scenic views on the L...  SingleFamily   \n",
       "\n",
       "   Year built  Heating      Cooling           Parking    Lot Bedrooms  ...  \\\n",
       "0      2020.0  Central  Central Air  Tandem Uncovered  940.0        2  ...   \n",
       "\n",
       "   Parking features  Tax assessed value  Annual tax amount   Listed On  \\\n",
       "0  Tandem Uncovered                 NaN                NaN  2020-11-06   \n",
       "\n",
       "   Listed Price Last Sold On Last Sold Price        City    Zip State  \n",
       "0      799900.0   2020-07-01        819000.0  Dodgertown  90090    CA  \n",
       "\n",
       "[1 rows x 40 columns]"
      ]
     },
     "execution_count": 6,
     "metadata": {},
     "output_type": "execute_result"
    }
   ],
   "source": [
    "test_data.head(1)"
   ]
  },
  {
   "cell_type": "code",
   "execution_count": 7,
   "metadata": {},
   "outputs": [],
   "source": [
    "all_features = pd.concat((train_data.loc[:, train_data.columns != 'Sold Price'], test_data.iloc[:, 1:]))"
   ]
  },
  {
   "cell_type": "code",
   "execution_count": 8,
   "metadata": {},
   "outputs": [
    {
     "name": "stdout",
     "output_type": "stream",
     "text": [
      "<class 'pandas.core.frame.DataFrame'>\n",
      "Index: 79065 entries, 0 to 31625\n",
      "Data columns (total 40 columns):\n",
      " #   Column                       Non-Null Count  Dtype  \n",
      "---  ------                       --------------  -----  \n",
      " 0   Id                           47439 non-null  float64\n",
      " 1   Address                      79065 non-null  object \n",
      " 2   Summary                      78219 non-null  object \n",
      " 3   Type                         79065 non-null  object \n",
      " 4   Year built                   77123 non-null  float64\n",
      " 5   Heating                      66858 non-null  object \n",
      " 6   Cooling                      48921 non-null  object \n",
      " 7   Parking                      76740 non-null  object \n",
      " 8   Lot                          56076 non-null  float64\n",
      " 9   Bedrooms                     74467 non-null  object \n",
      " 10  Bathrooms                    73655 non-null  float64\n",
      " 11  Full bathrooms               66137 non-null  float64\n",
      " 12  Total interior livable area  75187 non-null  float64\n",
      " 13  Total spaces                 77398 non-null  float64\n",
      " 14  Garage spaces                77398 non-null  float64\n",
      " 15  Region                       79063 non-null  object \n",
      " 16  Elementary School            70572 non-null  object \n",
      " 17  Elementary School Score      70330 non-null  float64\n",
      " 18  Elementary School Distance   70572 non-null  float64\n",
      " 19  Middle School                50788 non-null  object \n",
      " 20  Middle School Score          50786 non-null  float64\n",
      " 21  Middle School Distance       50788 non-null  float64\n",
      " 22  High School                  71891 non-null  object \n",
      " 23  High School Score            71281 non-null  float64\n",
      " 24  High School Distance         71890 non-null  float64\n",
      " 25  Flooring                     57129 non-null  object \n",
      " 26  Heating features             65673 non-null  object \n",
      " 27  Cooling features             46948 non-null  object \n",
      " 28  Appliances included          55312 non-null  object \n",
      " 29  Laundry features             58276 non-null  object \n",
      " 30  Parking features             71787 non-null  object \n",
      " 31  Tax assessed value           72742 non-null  float64\n",
      " 32  Annual tax amount            71856 non-null  float64\n",
      " 33  Listed On                    79065 non-null  object \n",
      " 34  Listed Price                 79065 non-null  float64\n",
      " 35  Last Sold On                 49520 non-null  object \n",
      " 36  Last Sold Price              49520 non-null  float64\n",
      " 37  City                         79065 non-null  object \n",
      " 38  Zip                          79065 non-null  int64  \n",
      " 39  State                        79065 non-null  object \n",
      "dtypes: float64(18), int64(1), object(21)\n",
      "memory usage: 24.7+ MB\n"
     ]
    }
   ],
   "source": [
    "all_features.info()"
   ]
  },
  {
   "cell_type": "code",
   "execution_count": 9,
   "metadata": {},
   "outputs": [
    {
     "data": {
      "text/html": [
       "<div>\n",
       "<style scoped>\n",
       "    .dataframe tbody tr th:only-of-type {\n",
       "        vertical-align: middle;\n",
       "    }\n",
       "\n",
       "    .dataframe tbody tr th {\n",
       "        vertical-align: top;\n",
       "    }\n",
       "\n",
       "    .dataframe thead th {\n",
       "        text-align: right;\n",
       "    }\n",
       "</style>\n",
       "<table border=\"1\" class=\"dataframe\">\n",
       "  <thead>\n",
       "    <tr style=\"text-align: right;\">\n",
       "      <th></th>\n",
       "      <th>Id</th>\n",
       "      <th>Address</th>\n",
       "      <th>Summary</th>\n",
       "      <th>Type</th>\n",
       "      <th>Year built</th>\n",
       "      <th>Heating</th>\n",
       "      <th>Cooling</th>\n",
       "      <th>Parking</th>\n",
       "      <th>Lot</th>\n",
       "      <th>Bedrooms</th>\n",
       "      <th>...</th>\n",
       "      <th>Parking features</th>\n",
       "      <th>Tax assessed value</th>\n",
       "      <th>Annual tax amount</th>\n",
       "      <th>Listed On</th>\n",
       "      <th>Listed Price</th>\n",
       "      <th>Last Sold On</th>\n",
       "      <th>Last Sold Price</th>\n",
       "      <th>City</th>\n",
       "      <th>Zip</th>\n",
       "      <th>State</th>\n",
       "    </tr>\n",
       "  </thead>\n",
       "  <tbody>\n",
       "    <tr>\n",
       "      <th>0</th>\n",
       "      <td>0.0</td>\n",
       "      <td>540 Pine Ln</td>\n",
       "      <td>540 Pine Ln, Los Altos, CA 94022 is a single f...</td>\n",
       "      <td>SingleFamily</td>\n",
       "      <td>1969.0</td>\n",
       "      <td>Heating - 2+ Zones, Central Forced Air - Gas</td>\n",
       "      <td>Multi-Zone, Central AC, Whole House / Attic Fan</td>\n",
       "      <td>Garage, Garage - Attached, Covered</td>\n",
       "      <td>1.0</td>\n",
       "      <td>Ground Floor Bedroom, Master Bedroom on Ground...</td>\n",
       "      <td>...</td>\n",
       "      <td>Garage, Garage - Attached, Covered</td>\n",
       "      <td>886486.0</td>\n",
       "      <td>12580.0</td>\n",
       "      <td>2019-10-24</td>\n",
       "      <td>4198000.0</td>\n",
       "      <td>NaN</td>\n",
       "      <td>NaN</td>\n",
       "      <td>Los Altos</td>\n",
       "      <td>94022</td>\n",
       "      <td>CA</td>\n",
       "    </tr>\n",
       "  </tbody>\n",
       "</table>\n",
       "<p>1 rows × 40 columns</p>\n",
       "</div>"
      ],
      "text/plain": [
       "    Id      Address                                            Summary  \\\n",
       "0  0.0  540 Pine Ln  540 Pine Ln, Los Altos, CA 94022 is a single f...   \n",
       "\n",
       "           Type  Year built                                       Heating  \\\n",
       "0  SingleFamily      1969.0  Heating - 2+ Zones, Central Forced Air - Gas   \n",
       "\n",
       "                                           Cooling  \\\n",
       "0  Multi-Zone, Central AC, Whole House / Attic Fan   \n",
       "\n",
       "                              Parking  Lot  \\\n",
       "0  Garage, Garage - Attached, Covered  1.0   \n",
       "\n",
       "                                            Bedrooms  ...  \\\n",
       "0  Ground Floor Bedroom, Master Bedroom on Ground...  ...   \n",
       "\n",
       "                     Parking features  Tax assessed value  Annual tax amount  \\\n",
       "0  Garage, Garage - Attached, Covered            886486.0            12580.0   \n",
       "\n",
       "    Listed On  Listed Price Last Sold On Last Sold Price       City    Zip  \\\n",
       "0  2019-10-24     4198000.0          NaN             NaN  Los Altos  94022   \n",
       "\n",
       "  State  \n",
       "0    CA  \n",
       "\n",
       "[1 rows x 40 columns]"
      ]
     },
     "execution_count": 9,
     "metadata": {},
     "output_type": "execute_result"
    }
   ],
   "source": [
    "all_features.head(1)"
   ]
  },
  {
   "cell_type": "code",
   "execution_count": 10,
   "metadata": {},
   "outputs": [
    {
     "data": {
      "text/html": [
       "<div>\n",
       "<style scoped>\n",
       "    .dataframe tbody tr th:only-of-type {\n",
       "        vertical-align: middle;\n",
       "    }\n",
       "\n",
       "    .dataframe tbody tr th {\n",
       "        vertical-align: top;\n",
       "    }\n",
       "\n",
       "    .dataframe thead th {\n",
       "        text-align: right;\n",
       "    }\n",
       "</style>\n",
       "<table border=\"1\" class=\"dataframe\">\n",
       "  <thead>\n",
       "    <tr style=\"text-align: right;\">\n",
       "      <th></th>\n",
       "      <th>Id</th>\n",
       "      <th>Address</th>\n",
       "      <th>Summary</th>\n",
       "      <th>Type</th>\n",
       "      <th>Year built</th>\n",
       "      <th>Heating</th>\n",
       "      <th>Cooling</th>\n",
       "      <th>Parking</th>\n",
       "      <th>Lot</th>\n",
       "      <th>Bedrooms</th>\n",
       "      <th>...</th>\n",
       "      <th>Parking features</th>\n",
       "      <th>Tax assessed value</th>\n",
       "      <th>Annual tax amount</th>\n",
       "      <th>Listed On</th>\n",
       "      <th>Listed Price</th>\n",
       "      <th>Last Sold On</th>\n",
       "      <th>Last Sold Price</th>\n",
       "      <th>City</th>\n",
       "      <th>Zip</th>\n",
       "      <th>State</th>\n",
       "    </tr>\n",
       "  </thead>\n",
       "  <tbody>\n",
       "    <tr>\n",
       "      <th>31625</th>\n",
       "      <td>NaN</td>\n",
       "      <td>3875 Stewart Ave</td>\n",
       "      <td>DUPLEX STYLE TOWNHOUSE IN GATED COMMUNITY ONE ...</td>\n",
       "      <td>Townhouse</td>\n",
       "      <td>1993.0</td>\n",
       "      <td>Forced Air</td>\n",
       "      <td>Central Air</td>\n",
       "      <td>Garage Door Opener, Parking Space</td>\n",
       "      <td>NaN</td>\n",
       "      <td>4</td>\n",
       "      <td>...</td>\n",
       "      <td>Garage Door Opener, Parking Space</td>\n",
       "      <td>543150.0</td>\n",
       "      <td>7281.0</td>\n",
       "      <td>2018-05-08</td>\n",
       "      <td>559000.0</td>\n",
       "      <td>2018-07-17</td>\n",
       "      <td>532500.0</td>\n",
       "      <td>Baldwin Park</td>\n",
       "      <td>91706</td>\n",
       "      <td>CA</td>\n",
       "    </tr>\n",
       "  </tbody>\n",
       "</table>\n",
       "<p>1 rows × 40 columns</p>\n",
       "</div>"
      ],
      "text/plain": [
       "       Id           Address  \\\n",
       "31625 NaN  3875 Stewart Ave   \n",
       "\n",
       "                                                 Summary       Type  \\\n",
       "31625  DUPLEX STYLE TOWNHOUSE IN GATED COMMUNITY ONE ...  Townhouse   \n",
       "\n",
       "       Year built     Heating      Cooling                            Parking  \\\n",
       "31625      1993.0  Forced Air  Central Air  Garage Door Opener, Parking Space   \n",
       "\n",
       "       Lot Bedrooms  ...                   Parking features  \\\n",
       "31625  NaN        4  ...  Garage Door Opener, Parking Space   \n",
       "\n",
       "       Tax assessed value  Annual tax amount   Listed On  Listed Price  \\\n",
       "31625            543150.0             7281.0  2018-05-08      559000.0   \n",
       "\n",
       "      Last Sold On Last Sold Price          City    Zip State  \n",
       "31625   2018-07-17        532500.0  Baldwin Park  91706    CA  \n",
       "\n",
       "[1 rows x 40 columns]"
      ]
     },
     "execution_count": 10,
     "metadata": {},
     "output_type": "execute_result"
    }
   ],
   "source": [
    "all_features.tail(1)"
   ]
  },
  {
   "cell_type": "code",
   "execution_count": 11,
   "metadata": {},
   "outputs": [],
   "source": [
    "# 假设 all_features 已经定义并加载\n",
    "numeric_features = all_features.dtypes[all_features.dtypes != 'object'].index\n",
    "\n",
    "# 标准化数值特征\n",
    "all_features[numeric_features] = all_features[numeric_features].apply(lambda x: (x - x.mean()) / x.std())\n",
    "\n",
    "# 填充缺失值\n",
    "all_features[numeric_features] = all_features[numeric_features].fillna(0)"
   ]
  },
  {
   "cell_type": "code",
   "execution_count": 12,
   "metadata": {},
   "outputs": [
    {
     "name": "stdout",
     "output_type": "stream",
     "text": [
      "<class 'pandas.core.frame.DataFrame'>\n",
      "Index: 79065 entries, 0 to 31625\n",
      "Data columns (total 18 columns):\n",
      " #   Column                       Non-Null Count  Dtype  \n",
      "---  ------                       --------------  -----  \n",
      " 0   Year built                   79065 non-null  float64\n",
      " 1   Lot                          79065 non-null  float64\n",
      " 2   Bathrooms                    79065 non-null  float64\n",
      " 3   Full bathrooms               79065 non-null  float64\n",
      " 4   Total interior livable area  79065 non-null  float64\n",
      " 5   Total spaces                 79065 non-null  float64\n",
      " 6   Garage spaces                79065 non-null  float64\n",
      " 7   Elementary School Score      79065 non-null  float64\n",
      " 8   Elementary School Distance   79065 non-null  float64\n",
      " 9   Middle School Score          79065 non-null  float64\n",
      " 10  Middle School Distance       79065 non-null  float64\n",
      " 11  High School Score            79065 non-null  float64\n",
      " 12  High School Distance         79065 non-null  float64\n",
      " 13  Tax assessed value           79065 non-null  float64\n",
      " 14  Annual tax amount            79065 non-null  float64\n",
      " 15  Listed Price                 79065 non-null  float64\n",
      " 16  Last Sold Price              79065 non-null  float64\n",
      " 17  Zip                          79065 non-null  float64\n",
      "dtypes: float64(18)\n",
      "memory usage: 11.5 MB\n"
     ]
    }
   ],
   "source": [
    "all_features = all_features[numeric_features[1:]]\n",
    "all_features.info()"
   ]
  },
  {
   "cell_type": "code",
   "execution_count": 13,
   "metadata": {},
   "outputs": [],
   "source": [
    "import torch\n",
    "\n",
    "n_train = train_data.shape[0]\n",
    "train_features = torch.tensor(all_features[:n_train].values, dtype=torch.float32)\n",
    "test_features = torch.tensor(all_features[n_train:].values, dtype=torch.float32)\n",
    "train_labels = torch.tensor(train_data['Sold Price'].values.reshape(-1, 1), dtype=torch.float32)"
   ]
  },
  {
   "cell_type": "code",
   "execution_count": null,
   "metadata": {},
   "outputs": [],
   "source": []
  },
  {
   "cell_type": "code",
   "execution_count": null,
   "metadata": {},
   "outputs": [],
   "source": []
  },
  {
   "cell_type": "markdown",
   "metadata": {},
   "source": [
    "# 开始 "
   ]
  },
  {
   "cell_type": "code",
   "execution_count": 14,
   "metadata": {},
   "outputs": [
    {
     "name": "stdout",
     "output_type": "stream",
     "text": [
      "train_features shape: torch.Size([47439, 18])\n",
      "test_features shape: torch.Size([31626, 18])\n",
      "train_labels shape: torch.Size([47439, 1])\n"
     ]
    }
   ],
   "source": [
    "print(f'train_features shape: {train_features.shape}')\n",
    "print(f'test_features shape: {test_features.shape}')\n",
    "print(f'train_labels shape: {train_labels.shape}')"
   ]
  },
  {
   "cell_type": "code",
   "execution_count": 15,
   "metadata": {},
   "outputs": [],
   "source": [
    "from torch import nn\n",
    "\n",
    "loss = nn.MSELoss()\n",
    "\n",
    "in_features = train_features.shape[1]\n",
    "\n",
    "net = nn.Sequential(nn.Linear(in_features, 1))\n",
    "\n",
    "optimizer = torch.optim.Adam(net.parameters(), lr=0.01, weight_decay=0)"
   ]
  },
  {
   "cell_type": "code",
   "execution_count": 16,
   "metadata": {},
   "outputs": [],
   "source": [
    "from torch.utils.data import DataLoader, TensorDataset\n",
    "dataset = TensorDataset(train_features, train_labels)\n",
    "train_iter = DataLoader(dataset, 64)"
   ]
  },
  {
   "cell_type": "code",
   "execution_count": 19,
   "metadata": {},
   "outputs": [
    {
     "name": "stderr",
     "output_type": "stream",
     "text": [
      "                                                                              \r"
     ]
    }
   ],
   "source": [
    "from tqdm import tqdm\n",
    "\n",
    "for epoch in range(100):\n",
    "    pbar = tqdm(train_iter, total=100, desc=f'Epoch {epoch}/{100}', leave=False)\n",
    "    for X, y in pbar:\n",
    "        optimizer.zero_grad()\n",
    "        l = loss(net(X), y)\n",
    "        l.backward()\n",
    "        optimizer.step()\n",
    "        pbar.set_postfix({'Loss': l.item()})\n",
    "        pbar.update(1)"
   ]
  },
  {
   "cell_type": "code",
   "execution_count": 20,
   "metadata": {},
   "outputs": [],
   "source": [
    "result = net(test_features[0:1])"
   ]
  },
  {
   "cell_type": "code",
   "execution_count": 21,
   "metadata": {},
   "outputs": [
    {
     "data": {
      "text/plain": [
       "tensor([[2721.4497]], grad_fn=<AddmmBackward0>)"
      ]
     },
     "execution_count": 21,
     "metadata": {},
     "output_type": "execute_result"
    }
   ],
   "source": [
    "result"
   ]
  },
  {
   "cell_type": "code",
   "execution_count": null,
   "metadata": {},
   "outputs": [],
   "source": [
    "\n",
    "\\]"
   ]
  }
 ],
 "metadata": {
  "kernelspec": {
   "display_name": "d2l",
   "language": "python",
   "name": "python3"
  },
  "language_info": {
   "codemirror_mode": {
    "name": "ipython",
    "version": 3
   },
   "file_extension": ".py",
   "mimetype": "text/x-python",
   "name": "python",
   "nbconvert_exporter": "python",
   "pygments_lexer": "ipython3",
   "version": "3.8.20"
  }
 },
 "nbformat": 4,
 "nbformat_minor": 2
}
