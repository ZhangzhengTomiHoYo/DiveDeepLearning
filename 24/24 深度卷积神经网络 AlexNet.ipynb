{
 "cells": [
  {
   "cell_type": "code",
   "execution_count": 1,
   "id": "b0cdcc4f-886f-4f05-a042-0600d497d89d",
   "metadata": {},
   "outputs": [],
   "source": [
    "import torch\n",
    "from torch import nn\n",
    "from d2l import torch as d2l"
   ]
  },
  {
   "cell_type": "code",
   "execution_count": 3,
   "id": "d5806d99-e0d8-4973-b872-56de420a09f7",
   "metadata": {},
   "outputs": [],
   "source": [
    "net = nn.Sequential(\n",
    "    nn.Conv2d(1, 96, kernel_size=11, stride=4, padding=1), nn.ReLU(),\n",
    "    nn.MaxPool2d(kernel_size=3, stride=2),\n",
    "    nn.Conv2d(96, 256, kernel_size=5, padding=2), nn.ReLU(),\n",
    "    nn.MaxPool2d(kernel_size=3, stride=2),\n",
    "    nn.Conv2d(256, 384, kernel_size=3, padding=1), nn.ReLU(),\n",
    "    nn.Conv2d(384, 384, kernel_size=3, padding=1), nn.ReLU(),\n",
    "    nn.Conv2d(384, 256, kernel_size=3, padding=1), nn.ReLU(),\n",
    "    nn.MaxPool2d(kernel_size=3, stride=2), nn.Flatten(),\n",
    "    nn.Linear(6400, 4096), nn.ReLU(), nn.Dropout(p=0.5),\n",
    "    nn.Linear(4096, 4096), nn.ReLU(), nn.Dropout(p=0.5),\n",
    "    nn.Linear(4096, 10))"
   ]
  },
  {
   "cell_type": "code",
   "execution_count": 4,
   "id": "90d86da1-6ca6-40ef-b74f-47a6e9ae50ca",
   "metadata": {},
   "outputs": [
    {
     "name": "stdout",
     "output_type": "stream",
     "text": [
      "Input shape:\t torch.Size([1, 1, 224, 224])\n",
      "Conv2d Output shape:\t torch.Size([1, 96, 54, 54])\n",
      "ReLU Output shape:\t torch.Size([1, 96, 54, 54])\n",
      "MaxPool2d Output shape:\t torch.Size([1, 96, 26, 26])\n",
      "Conv2d Output shape:\t torch.Size([1, 256, 26, 26])\n",
      "ReLU Output shape:\t torch.Size([1, 256, 26, 26])\n",
      "MaxPool2d Output shape:\t torch.Size([1, 256, 12, 12])\n",
      "Conv2d Output shape:\t torch.Size([1, 384, 12, 12])\n",
      "ReLU Output shape:\t torch.Size([1, 384, 12, 12])\n",
      "Conv2d Output shape:\t torch.Size([1, 384, 12, 12])\n",
      "ReLU Output shape:\t torch.Size([1, 384, 12, 12])\n",
      "Conv2d Output shape:\t torch.Size([1, 256, 12, 12])\n",
      "ReLU Output shape:\t torch.Size([1, 256, 12, 12])\n",
      "MaxPool2d Output shape:\t torch.Size([1, 256, 5, 5])\n",
      "Flatten Output shape:\t torch.Size([1, 6400])\n",
      "Linear Output shape:\t torch.Size([1, 4096])\n",
      "ReLU Output shape:\t torch.Size([1, 4096])\n",
      "Dropout Output shape:\t torch.Size([1, 4096])\n",
      "Linear Output shape:\t torch.Size([1, 4096])\n",
      "ReLU Output shape:\t torch.Size([1, 4096])\n",
      "Dropout Output shape:\t torch.Size([1, 4096])\n",
      "Linear Output shape:\t torch.Size([1, 10])\n"
     ]
    }
   ],
   "source": [
    "X = torch.randn(1, 1, 224, 224)\n",
    "print('Input shape:\\t', X.shape)\n",
    "for layer in net:\n",
    "    X = layer(X)\n",
    "    print(layer.__class__.__name__, 'Output shape:\\t', X.shape)"
   ]
  },
  {
   "cell_type": "code",
   "execution_count": 5,
   "id": "8cb8e60f-512d-441a-9967-41a40a042490",
   "metadata": {},
   "outputs": [
    {
     "data": {
      "text/plain": [
       "(50176, 279936)"
      ]
     },
     "execution_count": 5,
     "metadata": {},
     "output_type": "execute_result"
    }
   ],
   "source": [
    "224*224, 96*54*54"
   ]
  },
  {
   "cell_type": "code",
   "execution_count": 6,
   "id": "45a584ba-fc0c-4a36-bf17-5bde2bb88ef8",
   "metadata": {},
   "outputs": [
    {
     "data": {
      "text/plain": [
       "False"
      ]
     },
     "execution_count": 6,
     "metadata": {},
     "output_type": "execute_result"
    }
   ],
   "source": [
    "torch.cuda.is_available()"
   ]
  },
  {
   "cell_type": "code",
   "execution_count": null,
   "id": "29b0a194",
   "metadata": {},
   "outputs": [],
   "source": []
  }
 ],
 "metadata": {
  "kernelspec": {
   "display_name": "Python 3 (ipykernel)",
   "language": "python",
   "name": "python3"
  },
  "language_info": {
   "codemirror_mode": {
    "name": "ipython",
    "version": 3
   },
   "file_extension": ".py",
   "mimetype": "text/x-python",
   "name": "python",
   "nbconvert_exporter": "python",
   "pygments_lexer": "ipython3",
   "version": "3.8.20"
  }
 },
 "nbformat": 4,
 "nbformat_minor": 5
}
