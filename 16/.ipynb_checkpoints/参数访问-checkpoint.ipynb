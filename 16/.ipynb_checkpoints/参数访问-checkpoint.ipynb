{
 "cells": [
  {
   "cell_type": "markdown",
   "id": "eca0a1f7-8b74-4195-8c86-01f99b0c1f04",
   "metadata": {},
   "source": [
    "# 参数访问"
   ]
  },
  {
   "cell_type": "code",
   "execution_count": 1,
   "id": "10832078-bacf-4406-a54a-7ce2a7832bba",
   "metadata": {},
   "outputs": [],
   "source": [
    "import torch\n",
    "from torch import nn"
   ]
  },
  {
   "cell_type": "code",
   "execution_count": 2,
   "id": "1c50a70a-1a77-4fe4-9222-0c22c80ece19",
   "metadata": {},
   "outputs": [
    {
     "data": {
      "text/plain": [
       "tensor([[0.3362],\n",
       "        [0.3630]], grad_fn=<AddmmBackward0>)"
      ]
     },
     "execution_count": 2,
     "metadata": {},
     "output_type": "execute_result"
    }
   ],
   "source": [
    "net = nn.Sequential(nn.Linear(4, 8), nn.ReLU(), nn.Linear(8, 1))\n",
    "X = torch.rand((2, 4))\n",
    "net(X)"
   ]
  },
  {
   "cell_type": "code",
   "execution_count": 4,
   "id": "9643c424-2e62-4113-a006-17b154c19e99",
   "metadata": {},
   "outputs": [
    {
     "name": "stdout",
     "output_type": "stream",
     "text": [
      "OrderedDict([('weight', tensor([[ 0.1692,  0.1239,  0.2739, -0.0479,  0.1043,  0.1554,  0.0326, -0.3394]])), ('bias', tensor([0.3505]))])\n"
     ]
    }
   ],
   "source": [
    "\"\"\"\n",
    "net 是一个 nn sequential的东西 可以简单理解为一个python 的 lis\n",
    "\"\"\"\n",
    "\n",
    "print(net[2].state_dict()) # 所以net[2] 很好理解了吧\n",
    "\n",
    "# 注意输出的OrderedDict，所以这个state_dict就是_modules那个东西"
   ]
  },
  {
   "cell_type": "code",
   "execution_count": null,
   "id": "8a510498-d536-49a2-85df-c0d952be536d",
   "metadata": {},
   "outputs": [],
   "source": []
  },
  {
   "cell_type": "code",
   "execution_count": null,
   "id": "3a358b41-7271-4c02-94a0-ce41c1147a9a",
   "metadata": {},
   "outputs": [],
   "source": []
  },
  {
   "cell_type": "markdown",
   "id": "d56c06fc-6925-42b6-8dfa-d9925084bd8c",
   "metadata": {},
   "source": [
    "# 目标参数"
   ]
  },
  {
   "cell_type": "code",
   "execution_count": 5,
   "id": "8d03ce6d-d94a-48aa-8c94-6810d8c2f881",
   "metadata": {},
   "outputs": [
    {
     "name": "stdout",
     "output_type": "stream",
     "text": [
      "<class 'torch.nn.parameter.Parameter'>\n",
      "Parameter containing:\n",
      "tensor([0.3505], requires_grad=True)\n",
      "tensor([0.3505])\n"
     ]
    }
   ],
   "source": [
    "print(type(net[2].bias))\n",
    "print(net[2].bias)\n",
    "print(net[2].bias.data)\n",
    "\"\"\" 注意Parameter，是一个可以优化的参数\n",
    "为什么是.data，因为还有一个梯度.grad"
   ]
  },
  {
   "cell_type": "code",
   "execution_count": 6,
   "id": "c0113668-4f50-4454-b79a-ec45dc0534c6",
   "metadata": {},
   "outputs": [
    {
     "data": {
      "text/plain": [
       "True"
      ]
     },
     "execution_count": 6,
     "metadata": {},
     "output_type": "execute_result"
    }
   ],
   "source": [
    "net[2].weight.grad == None\n",
    "# 还没有做反向计算，所以grad是None"
   ]
  },
  {
   "cell_type": "code",
   "execution_count": null,
   "id": "67591728-4b6c-4941-b131-e287391e816e",
   "metadata": {},
   "outputs": [],
   "source": []
  },
  {
   "cell_type": "code",
   "execution_count": null,
   "id": "ca3970e2-9f7d-458f-b4ef-d445040fc569",
   "metadata": {},
   "outputs": [],
   "source": []
  },
  {
   "cell_type": "markdown",
   "id": "4ffb3041-c560-4e4b-9037-75708351b1c1",
   "metadata": {},
   "source": [
    "# 一次性访问所有参数"
   ]
  },
  {
   "cell_type": "code",
   "execution_count": 8,
   "id": "17a8ae6c-3909-4bad-a86a-d5d987d283d6",
   "metadata": {},
   "outputs": [
    {
     "name": "stdout",
     "output_type": "stream",
     "text": [
      "('weight', torch.Size([8, 4])) ('bias', torch.Size([8]))\n"
     ]
    }
   ],
   "source": [
    "print(*[(name, param.shape) for name, param in net[0].named_parameters()])"
   ]
  },
  {
   "cell_type": "code",
   "execution_count": 13,
   "id": "6c2f7167-1c49-4647-b220-fb14e9630cba",
   "metadata": {},
   "outputs": [
    {
     "name": "stdout",
     "output_type": "stream",
     "text": [
      "[('weight', torch.Size([8, 4])), ('bias', torch.Size([8]))]\n",
      "[('weight', torch.Size([8, 4])), ('bias', torch.Size([8]))]\n",
      "<generator object <genexpr> at 0x000001660ABF8EB0>\n"
     ]
    }
   ],
   "source": [
    "# 那个*号在干啥，看看不用会怎么样\n",
    "print([(name, param.shape) for name, param in net[0].named_parameters()])\n",
    "\"\"\" 额，，，先看几个概念\n",
    "元组：tuple 就这 ( )\n",
    "列表：list 就这个[ ]\n",
    "元组列表：[(),(),()...]懂了吧 装着多个元组的列表\n",
    "然后*就是给元组列表解包，去掉最外面的[]让他们变成一个一个的参数给print\n",
    "到这应该就没什么问题了\n",
    "\n",
    "但是又发现 给[] 和不给[] 会不一样 为什么呢？\"\"\"\n",
    "print([(name, param.shape) for name, param in net[0].named_parameters()])\n",
    "print((name, param.shape) for name, param in net[0].named_parameters())\n",
    "\n",
    "\"\"\"怎么说呢\n",
    "列表推导式（使用 []）：\n",
    "作用：立即生成一个包含所有 (name, param.shape) 元组的列表。\n",
    "输出：完整的列表内容，例如 [(name1, shape1), (name2, shape2), ...]。\n",
    "\n",
    "生成器表达式（不使用 []）：\n",
    "作用：创建一个生成器对象，不立即生成所有元素。\n",
    "输出：生成器的内存地址，例如 <generator object <genexpr> at 0x...>，不会显示实际内容。"
   ]
  },
  {
   "cell_type": "code",
   "execution_count": 15,
   "id": "15bd9085-1c99-48ab-8f24-ff506f80a58c",
   "metadata": {},
   "outputs": [
    {
     "name": "stdout",
     "output_type": "stream",
     "text": [
      "('0.weight', torch.Size([8, 4])) ('0.bias', torch.Size([8])) ('2.weight', torch.Size([1, 8])) ('2.bias', torch.Size([1]))\n"
     ]
    }
   ],
   "source": [
    "print(*[(name, param.shape) for name, param in net.named_parameters()])\n",
    "# 没太多可以说的，注意relu是没有参数的"
   ]
  },
  {
   "cell_type": "code",
   "execution_count": 16,
   "id": "2f3549ef-cb09-44fc-b845-bcc7fa4bd0a6",
   "metadata": {},
   "outputs": [
    {
     "data": {
      "text/plain": [
       "tensor([0.3505])"
      ]
     },
     "execution_count": 16,
     "metadata": {},
     "output_type": "execute_result"
    }
   ],
   "source": [
    "#得到名字后可以\n",
    "net.state_dict()['2.bias'].data"
   ]
  },
  {
   "cell_type": "code",
   "execution_count": null,
   "id": "5fd735ae-9126-4e2b-92b5-aa90b452f9db",
   "metadata": {},
   "outputs": [],
   "source": []
  },
  {
   "cell_type": "code",
   "execution_count": null,
   "id": "7af6ce6d-9207-4acb-8cba-0ed62fc19e36",
   "metadata": {},
   "outputs": [],
   "source": []
  },
  {
   "cell_type": "code",
   "execution_count": null,
   "id": "bdac0343-8d2f-40d5-b5b9-856fc5c73f81",
   "metadata": {},
   "outputs": [],
   "source": []
  },
  {
   "cell_type": "markdown",
   "id": "d0db84c8-e396-40a1-93e7-9d20af6717a7",
   "metadata": {},
   "source": [
    "# 从嵌套块收集参数"
   ]
  },
  {
   "cell_type": "code",
   "execution_count": 18,
   "id": "53a3cd09-2312-44b7-a5ef-ca27b5c4118b",
   "metadata": {},
   "outputs": [
    {
     "data": {
      "text/plain": [
       "tensor([[-0.1047],\n",
       "        [-0.1047]], grad_fn=<AddmmBackward0>)"
      ]
     },
     "execution_count": 18,
     "metadata": {},
     "output_type": "execute_result"
    }
   ],
   "source": [
    "def block1():\n",
    "    return nn.Sequential(nn.Linear(4, 8),\n",
    "                         nn.ReLU(),\n",
    "                         nn.Linear(8, 4),\n",
    "                         nn.ReLU())\n",
    "def block2():\n",
    "    net = nn.Sequential()\n",
    "    for i in range(4):\n",
    "        net.add_module(f'block {i}', block1()) # 插入四个block1， 用add_module方法，\n",
    "                # （接上）和sequential唯一的区别是，第一个参数可以传一个名字，这样就不用告诉你是1234了\n",
    "    return net\n",
    "\n",
    "rgnet = nn.Sequential(block2(), nn.Linear(4,1))\n",
    "rgnet(X)\n"
   ]
  },
  {
   "cell_type": "code",
   "execution_count": 19,
   "id": "ee44d1a5-d660-4a1b-b860-09ee37984678",
   "metadata": {},
   "outputs": [
    {
     "name": "stdout",
     "output_type": "stream",
     "text": [
      "Sequential(\n",
      "  (0): Sequential(\n",
      "    (block 0): Sequential(\n",
      "      (0): Linear(in_features=4, out_features=8, bias=True)\n",
      "      (1): ReLU()\n",
      "      (2): Linear(in_features=8, out_features=4, bias=True)\n",
      "      (3): ReLU()\n",
      "    )\n",
      "    (block 1): Sequential(\n",
      "      (0): Linear(in_features=4, out_features=8, bias=True)\n",
      "      (1): ReLU()\n",
      "      (2): Linear(in_features=8, out_features=4, bias=True)\n",
      "      (3): ReLU()\n",
      "    )\n",
      "    (block 2): Sequential(\n",
      "      (0): Linear(in_features=4, out_features=8, bias=True)\n",
      "      (1): ReLU()\n",
      "      (2): Linear(in_features=8, out_features=4, bias=True)\n",
      "      (3): ReLU()\n",
      "    )\n",
      "    (block 3): Sequential(\n",
      "      (0): Linear(in_features=4, out_features=8, bias=True)\n",
      "      (1): ReLU()\n",
      "      (2): Linear(in_features=8, out_features=4, bias=True)\n",
      "      (3): ReLU()\n",
      "    )\n",
      "  )\n",
      "  (1): Linear(in_features=4, out_features=1, bias=True)\n",
      ")\n"
     ]
    }
   ],
   "source": [
    "print(rgnet)\n",
    "\"\"\" 最外层是一个Sequential\n",
    "然后第一个也是Sequential\n",
    "然后block 0 也是一个 Sequential，三个Sequential的嵌套哈哈\n",
    "\n",
    "复杂的网络print就没那么方便"
   ]
  },
  {
   "cell_type": "code",
   "execution_count": null,
   "id": "a824883e-7100-4b36-9e67-879df9e46c91",
   "metadata": {},
   "outputs": [],
   "source": []
  },
  {
   "cell_type": "code",
   "execution_count": null,
   "id": "cfe6f3de-f460-4d13-8728-a94a2421bf27",
   "metadata": {},
   "outputs": [],
   "source": []
  },
  {
   "cell_type": "code",
   "execution_count": null,
   "id": "a6a0477e-4aeb-49fc-8407-f9948f870646",
   "metadata": {},
   "outputs": [],
   "source": []
  },
  {
   "cell_type": "code",
   "execution_count": null,
   "id": "7ce033a8-9e55-46a1-8685-a7679fcd6aed",
   "metadata": {},
   "outputs": [],
   "source": []
  },
  {
   "cell_type": "markdown",
   "id": "8b3c8aaf-4c38-4284-9340-502dcfa3569d",
   "metadata": {},
   "source": [
    "# 内置初始化"
   ]
  },
  {
   "cell_type": "code",
   "execution_count": 20,
   "id": "f67062f5-c6e5-43b3-8968-268d3d01680a",
   "metadata": {},
   "outputs": [
    {
     "data": {
      "text/plain": [
       "(tensor([-0.0171, -0.0007, -0.0059, -0.0018]), tensor(0.))"
      ]
     },
     "execution_count": 20,
     "metadata": {},
     "output_type": "execute_result"
    }
   ],
   "source": [
    "def init_normal(m): # m就是一个module 每次传入一个module\n",
    "    if type(m) == nn.Linear:\n",
    "        # !!! 下划线在后面，表示一个替换函数，表示不会返回一个值，而是直接替换掉\n",
    "        nn.init.normal_(m.weight, mean=0, std=0.01) \n",
    "        nn.init.zeros_(m.bias)\n",
    "\n",
    "net.apply(init_normal) # 遍历 apply给\n",
    "net[0].weight.data[0], net[0].bias.data[0]"
   ]
  },
  {
   "cell_type": "code",
   "execution_count": 22,
   "id": "2d903f76-287c-434e-97ab-c141915f0734",
   "metadata": {},
   "outputs": [
    {
     "data": {
      "text/plain": [
       "(tensor([1., 1., 1., 1.]), tensor(0.))"
      ]
     },
     "execution_count": 22,
     "metadata": {},
     "output_type": "execute_result"
    }
   ],
   "source": [
    "def init_constant(m):\n",
    "    if type(m) == nn.Linear:\n",
    "        nn.init.constant_(m.weight, 1) # 从算法角度 不能这样做， 但是\n",
    "        nn.init.zeros_(m.bias)\n",
    "\n",
    "net.apply(init_constant)\n",
    "net[0].weight.data[0], net[0].bias.data[0]"
   ]
  },
  {
   "cell_type": "code",
   "execution_count": 24,
   "id": "5f4abcd5-ec65-4c7f-96e3-613605b035ec",
   "metadata": {},
   "outputs": [
    {
     "name": "stdout",
     "output_type": "stream",
     "text": [
      "tensor([ 0.0420,  0.6849, -0.4352, -0.2633])\n",
      "tensor([[42., 42., 42., 42., 42., 42., 42., 42.]])\n"
     ]
    }
   ],
   "source": [
    "def xavier(m):\n",
    "    if type(m) == nn.Linear:\n",
    "        nn.init.xavier_uniform_(m.weight)\n",
    "\n",
    "def init_42(m):\n",
    "    if type(m) == nn.Linear:\n",
    "        nn.init.constant_(m.weight, 42)\n",
    "\n",
    "net[0].apply(xavier)\n",
    "net[2].apply(init_42)\n",
    "print(net[0].weight.data[0])\n",
    "print(net[2].weight.data)"
   ]
  },
  {
   "cell_type": "code",
   "execution_count": null,
   "id": "f70fd1ee-e6e1-4966-844a-e84adcfe109f",
   "metadata": {},
   "outputs": [],
   "source": [
    "# why 一个取[0] 一个不取"
   ]
  },
  {
   "cell_type": "code",
   "execution_count": null,
   "id": "6bce0533-0b1f-4c65-87dc-bbe96c62befc",
   "metadata": {},
   "outputs": [],
   "source": []
  },
  {
   "cell_type": "code",
   "execution_count": 25,
   "id": "15bb9b1f-43de-4459-ad95-ca58d50d8ada",
   "metadata": {},
   "outputs": [
    {
     "name": "stdout",
     "output_type": "stream",
     "text": [
      "tensor([42., 42., 42., 42., 42., 42., 42., 42.])\n"
     ]
    }
   ],
   "source": [
    "print(net[2].weight.data[0])"
   ]
  },
  {
   "cell_type": "code",
   "execution_count": 26,
   "id": "346b0903-6cba-4b9d-ac23-a24c1d6b4933",
   "metadata": {},
   "outputs": [
    {
     "name": "stdout",
     "output_type": "stream",
     "text": [
      "tensor([[ 0.0420,  0.6849, -0.4352, -0.2633],\n",
      "        [-0.1014, -0.6716, -0.5937,  0.4508],\n",
      "        [ 0.3130, -0.3959,  0.3589,  0.1162],\n",
      "        [-0.1730,  0.2663,  0.2891, -0.0538],\n",
      "        [-0.4665, -0.4108, -0.5707,  0.5022],\n",
      "        [ 0.2139,  0.0316, -0.0763,  0.2547],\n",
      "        [ 0.0616, -0.1022, -0.4456, -0.2473],\n",
      "        [-0.6715, -0.3633, -0.2692,  0.3516]])\n"
     ]
    }
   ],
   "source": [
    "print(net[0].weight.data)"
   ]
  },
  {
   "cell_type": "code",
   "execution_count": 27,
   "id": "9e1028aa-6fad-4e58-8809-808dc72dece6",
   "metadata": {},
   "outputs": [
    {
     "data": {
      "text/plain": [
       "Parameter containing:\n",
       "tensor([[ 0.0420,  0.6849, -0.4352, -0.2633],\n",
       "        [-0.1014, -0.6716, -0.5937,  0.4508],\n",
       "        [ 0.3130, -0.3959,  0.3589,  0.1162],\n",
       "        [-0.1730,  0.2663,  0.2891, -0.0538],\n",
       "        [-0.4665, -0.4108, -0.5707,  0.5022],\n",
       "        [ 0.2139,  0.0316, -0.0763,  0.2547],\n",
       "        [ 0.0616, -0.1022, -0.4456, -0.2473],\n",
       "        [-0.6715, -0.3633, -0.2692,  0.3516]], requires_grad=True)"
      ]
     },
     "execution_count": 27,
     "metadata": {},
     "output_type": "execute_result"
    }
   ],
   "source": [
    "net[0].weight"
   ]
  },
  {
   "cell_type": "code",
   "execution_count": 28,
   "id": "eaffc73b-df68-4ef0-87e9-e629ca2e48ea",
   "metadata": {},
   "outputs": [
    {
     "data": {
      "text/plain": [
       "torch.Size([8, 4])"
      ]
     },
     "execution_count": 28,
     "metadata": {},
     "output_type": "execute_result"
    }
   ],
   "source": [
    "net[0].weight.shape"
   ]
  },
  {
   "cell_type": "code",
   "execution_count": 30,
   "id": "d2377e27-f45a-41cd-8e3d-09d06189ef78",
   "metadata": {},
   "outputs": [
    {
     "data": {
      "text/plain": [
       "torch.Size([1, 8])"
      ]
     },
     "execution_count": 30,
     "metadata": {},
     "output_type": "execute_result"
    }
   ],
   "source": [
    "net[2].weight.shape"
   ]
  },
  {
   "cell_type": "code",
   "execution_count": null,
   "id": "50021b13-807c-4129-b92b-96f69185308e",
   "metadata": {},
   "outputs": [],
   "source": [
    "# 20241201 2059 好像是按相反的来 为什么会这样呢 我记得linear里面是点积 吧？ 那乘的时候weight是否转置了呢\n",
    "\n",
    "https://blog.csdn.net/zhaohongfei_358/article/details/122797190\n",
    "\n",
    "讲的非常非常好！！！"
   ]
  },
  {
   "cell_type": "code",
   "execution_count": null,
   "id": "91bd60e7-06b3-489a-964a-8471190bf0a8",
   "metadata": {},
   "outputs": [],
   "source": []
  },
  {
   "cell_type": "code",
   "execution_count": null,
   "id": "82622f90-ba11-4634-bb2d-2f9d9ebbe47a",
   "metadata": {},
   "outputs": [],
   "source": []
  },
  {
   "cell_type": "markdown",
   "id": "5027d4fd-f69d-463f-a0ce-1b59b9cbab9a",
   "metadata": {},
   "source": [
    "# 自定义初始化"
   ]
  },
  {
   "cell_type": "code",
   "execution_count": 31,
   "id": "430f20be-d265-4291-8afb-26253c44e915",
   "metadata": {},
   "outputs": [
    {
     "name": "stdout",
     "output_type": "stream",
     "text": [
      "Init ('weight', torch.Size([8, 4])) ('bias', torch.Size([8]))\n",
      "Init ('weight', torch.Size([1, 8])) ('bias', torch.Size([1]))\n"
     ]
    },
    {
     "data": {
      "text/plain": [
       "tensor([[ 0.0000,  0.0000,  0.0000,  9.5448],\n",
       "        [ 0.0000,  9.1330,  5.0017, -8.4905]], grad_fn=<SliceBackward0>)"
      ]
     },
     "execution_count": 31,
     "metadata": {},
     "output_type": "execute_result"
    }
   ],
   "source": [
    "def my_init(m):\n",
    "    if type(m) == nn.Linear:\n",
    "        print(\n",
    "            \"Init\",\n",
    "            *[(name, param.shape) for name, param in m.named_parameters()])\n",
    "        nn.init.uniform_(m.weight, -10, 10)\n",
    "        m.weight.data *= m.weight.data.abs() >= 5\n",
    "\n",
    "net.apply(my_init)\n",
    "net[0].weight[:2]"
   ]
  },
  {
   "cell_type": "code",
   "execution_count": 32,
   "id": "c7a6e88e-2ae0-4424-ad6f-e314893aba2c",
   "metadata": {},
   "outputs": [
    {
     "data": {
      "text/plain": [
       "Parameter containing:\n",
       "tensor([[ 0.0000,  0.0000,  0.0000,  9.5448],\n",
       "        [ 0.0000,  9.1330,  5.0017, -8.4905],\n",
       "        [-8.2355,  8.7172, -5.4528,  0.0000],\n",
       "        [-0.0000, -0.0000,  7.0884, -0.0000],\n",
       "        [ 8.0613, -6.5059, -0.0000, -0.0000],\n",
       "        [ 0.0000,  0.0000, -7.0752,  9.0798],\n",
       "        [ 0.0000,  0.0000, -8.4002, -0.0000],\n",
       "        [ 0.0000,  0.0000, -9.3272,  9.9640]], requires_grad=True)"
      ]
     },
     "execution_count": 32,
     "metadata": {},
     "output_type": "execute_result"
    }
   ],
   "source": [
    "net[0].weight"
   ]
  },
  {
   "cell_type": "code",
   "execution_count": null,
   "id": "2214e197-95b3-4ef3-b164-f4cea6aaf7ee",
   "metadata": {},
   "outputs": [],
   "source": []
  },
  {
   "cell_type": "code",
   "execution_count": 33,
   "id": "fb3693d9-db94-427d-a8fb-e7f315e5c8d0",
   "metadata": {},
   "outputs": [],
   "source": [
    "# 更简单 直接暴力"
   ]
  },
  {
   "cell_type": "code",
   "execution_count": 38,
   "id": "dd240407-d1ab-4c59-b27d-6e4ab99e9cdb",
   "metadata": {},
   "outputs": [],
   "source": [
    "net[0].weight.data[:] += 1"
   ]
  },
  {
   "cell_type": "code",
   "execution_count": 39,
   "id": "2a686226-e68c-433d-8f1c-e9bcc357825a",
   "metadata": {},
   "outputs": [],
   "source": [
    "net[0].weight.data[0, 0] = 42"
   ]
  },
  {
   "cell_type": "code",
   "execution_count": 40,
   "id": "94ba125f-3e2e-4967-a399-4dc6063f549d",
   "metadata": {},
   "outputs": [
    {
     "data": {
      "text/plain": [
       "tensor([42.0000,  3.0000,  3.0000, 12.5448])"
      ]
     },
     "execution_count": 40,
     "metadata": {},
     "output_type": "execute_result"
    }
   ],
   "source": [
    "net[0].weight.data[0]"
   ]
  },
  {
   "cell_type": "code",
   "execution_count": null,
   "id": "d7bb77bd-1d37-4cfe-bb3c-f9adaac9c2d7",
   "metadata": {},
   "outputs": [],
   "source": []
  },
  {
   "cell_type": "code",
   "execution_count": null,
   "id": "5ecf0bcd-2a04-45d3-8cce-7066da49e72e",
   "metadata": {},
   "outputs": [],
   "source": []
  },
  {
   "cell_type": "code",
   "execution_count": null,
   "id": "eb068436-f40a-4c28-97de-39f5561cec14",
   "metadata": {},
   "outputs": [],
   "source": []
  },
  {
   "cell_type": "code",
   "execution_count": null,
   "id": "90a86262-c108-4383-900b-25eea0cd050e",
   "metadata": {},
   "outputs": [],
   "source": []
  },
  {
   "cell_type": "markdown",
   "id": "38108575-1259-419a-b4be-6968419fae4f",
   "metadata": {},
   "source": [
    "# 参数绑定"
   ]
  },
  {
   "cell_type": "code",
   "execution_count": 42,
   "id": "386c34c3-0125-4806-903b-6ba5851a2190",
   "metadata": {},
   "outputs": [],
   "source": [
    "# 两个数据流进来 ， 共享权重 ， 共享就是一样的意思， "
   ]
  },
  {
   "cell_type": "code",
   "execution_count": 44,
   "id": "34f90e52-948c-4c48-9523-79c3b335d5c1",
   "metadata": {},
   "outputs": [
    {
     "name": "stdout",
     "output_type": "stream",
     "text": [
      "tensor([True, True, True, True, True, True, True, True])\n",
      "tensor([True, True, True, True, True, True, True, True])\n"
     ]
    }
   ],
   "source": [
    "shared = nn.Linear(8,8)\n",
    "net = nn.Sequential(nn.Linear(4,8),\n",
    "                    nn.ReLU(),\n",
    "                    shared,\n",
    "                    nn.ReLU(),\n",
    "                    shared,\n",
    "                    nn.ReLU(),\n",
    "                    nn.Linear(8,1))\n",
    "net(X)\n",
    "print(net[2].weight.data[0] == net[4].weight.data[0])\n",
    "# 每个层之间去共享参数 （感觉从编程语言的角度去理解比较好，但李沐没那样讲）\n",
    "\n",
    "net[2].weight.data[0,0] = 100\n",
    "print(net[2].weight.data[0] == net[4].weight.data[0])"
   ]
  },
  {
   "cell_type": "code",
   "execution_count": 50,
   "id": "a39efe77-30f6-4dd5-81c3-5e23d82f3cd2",
   "metadata": {},
   "outputs": [
    {
     "data": {
      "text/plain": [
       "torch.Size([8, 4])"
      ]
     },
     "execution_count": 50,
     "metadata": {},
     "output_type": "execute_result"
    }
   ],
   "source": [
    "net[0].weight.data.shape"
   ]
  },
  {
   "cell_type": "code",
   "execution_count": null,
   "id": "8c581448-315e-4112-a518-7f87b389777d",
   "metadata": {},
   "outputs": [],
   "source": []
  }
 ],
 "metadata": {
  "kernelspec": {
   "display_name": "Python 3 (ipykernel)",
   "language": "python",
   "name": "python3"
  },
  "language_info": {
   "codemirror_mode": {
    "name": "ipython",
    "version": 3
   },
   "file_extension": ".py",
   "mimetype": "text/x-python",
   "name": "python",
   "nbconvert_exporter": "python",
   "pygments_lexer": "ipython3",
   "version": "3.8.20"
  }
 },
 "nbformat": 4,
 "nbformat_minor": 5
}
