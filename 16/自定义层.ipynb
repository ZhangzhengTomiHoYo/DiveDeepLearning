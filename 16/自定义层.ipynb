{
 "cells": [
  {
   "cell_type": "markdown",
   "id": "a4521025-c0bc-41e3-bc31-645cd9c09382",
   "metadata": {},
   "source": [
    "# 自定义层"
   ]
  },
  {
   "cell_type": "markdown",
   "id": "405843a3-0934-4396-ad72-b247cb565553",
   "metadata": {},
   "source": [
    "构造一个没有任何参数的自定义层"
   ]
  },
  {
   "cell_type": "code",
   "execution_count": 2,
   "id": "9a7c7572-5c0d-464a-9919-55795998b8e3",
   "metadata": {},
   "outputs": [],
   "source": [
    "import torch\n",
    "import torch.nn.functional as F\n",
    "from torch import nn"
   ]
  },
  {
   "cell_type": "code",
   "execution_count": 3,
   "id": "9a41cc31-ad30-412a-848a-78b8fdbaaf4c",
   "metadata": {},
   "outputs": [
    {
     "data": {
      "text/plain": [
       "tensor([-2., -1.,  0.,  1.,  2.])"
      ]
     },
     "execution_count": 3,
     "metadata": {},
     "output_type": "execute_result"
    }
   ],
   "source": [
    "# 其实和自定义 网络 没有 本质 区别 ， 因为层 也是 nn.module 的子类\n",
    "class CenteredLayer(nn.Module):\n",
    "    def __init__(self):\n",
    "        super().__init__() # python3 不用这个 ，会自动调用\n",
    "\n",
    "    def forward(self, X):\n",
    "        return X - X.mean()\n",
    "\n",
    "layer = CenteredLayer()\n",
    "layer(torch.FloatTensor([1,2,3,4,5]))"
   ]
  },
  {
   "cell_type": "code",
   "execution_count": null,
   "id": "f51edfca-5f0b-416c-a185-1a9fd10691a3",
   "metadata": {},
   "outputs": [],
   "source": []
  },
  {
   "cell_type": "code",
   "execution_count": null,
   "id": "6d5c268f-8e4d-4420-8966-657c62868c99",
   "metadata": {},
   "outputs": [],
   "source": []
  },
  {
   "cell_type": "markdown",
   "id": "a31f3f69-7953-48c1-8e47-3d4834086d3c",
   "metadata": {},
   "source": [
    "# 将层作为组件合并到构建更复杂的模型中"
   ]
  },
  {
   "cell_type": "code",
   "execution_count": 4,
   "id": "2bbe878b-e48e-4aec-95e9-d194bbd06d1b",
   "metadata": {},
   "outputs": [
    {
     "data": {
      "text/plain": [
       "tensor(-4.8894e-09, grad_fn=<MeanBackward0>)"
      ]
     },
     "execution_count": 4,
     "metadata": {},
     "output_type": "execute_result"
    }
   ],
   "source": [
    "net = nn.Sequential(nn.Linear(8, 128), CenteredLayer())\n",
    "\n",
    "Y = net(torch.rand(4,8))\n",
    "Y.mean()"
   ]
  },
  {
   "cell_type": "code",
   "execution_count": null,
   "id": "7960def9-5a73-4361-97e5-e0e1da63aa5b",
   "metadata": {},
   "outputs": [],
   "source": [
    "\n",
    "\n"
   ]
  },
  {
   "cell_type": "code",
   "execution_count": null,
   "id": "78fea4fc-7a79-456d-99bf-1f9929dab552",
   "metadata": {},
   "outputs": [],
   "source": []
  },
  {
   "cell_type": "markdown",
   "id": "5bb8f1e4-9851-43a9-b871-f9408b8ea0d7",
   "metadata": {},
   "source": [
    "# 带参数的图层"
   ]
  },
  {
   "cell_type": "code",
   "execution_count": 5,
   "id": "db08ca01-ec8b-45b1-ab77-9010f8cfd600",
   "metadata": {},
   "outputs": [
    {
     "data": {
      "text/plain": [
       "Parameter containing:\n",
       "tensor([[0.2053, 0.3189, 0.5003],\n",
       "        [0.1209, 0.8648, 0.8364],\n",
       "        [0.0253, 0.2748, 0.9195],\n",
       "        [0.5072, 0.3179, 0.0334],\n",
       "        [0.5608, 0.2660, 0.6978]], requires_grad=True)"
      ]
     },
     "execution_count": 5,
     "metadata": {},
     "output_type": "execute_result"
    }
   ],
   "source": [
    "class MyLinear(nn.Module):\n",
    "    def __init__(self, in_units, units):\n",
    "        super().__init__()\n",
    "        self.weight = nn.Parameter(torch.rand(in_units, units))\n",
    "        self.bias = nn.Parameter(torch.rand(units,))\n",
    "\n",
    "    def forward(self, X):\n",
    "        # matmul 可以在高维运算  mm只可以二维\n",
    "        linear = torch.matmul(X, self.weight.data) + self.bias.data\n",
    "        return F.relu(linear)\n",
    "\n",
    "dense = MyLinear(5, 3)\n",
    "dense.weight"
   ]
  },
  {
   "cell_type": "code",
   "execution_count": null,
   "id": "48164871-0ece-46c1-b576-0014df0719ff",
   "metadata": {},
   "outputs": [],
   "source": []
  },
  {
   "cell_type": "code",
   "execution_count": null,
   "id": "e42b2bb4-ea16-426f-9b1d-2858e4996b4f",
   "metadata": {},
   "outputs": [],
   "source": []
  },
  {
   "cell_type": "markdown",
   "id": "19180c65-b710-450c-9e5d-34a15cc4fa61",
   "metadata": {},
   "source": [
    "# 使用自定义曾直接执行正向传播计算"
   ]
  },
  {
   "cell_type": "code",
   "execution_count": 7,
   "id": "0e778e57-71b8-4ed2-b70b-a0105b8ec330",
   "metadata": {},
   "outputs": [
    {
     "data": {
      "text/plain": [
       "tensor([[0.8550, 1.1998, 1.0410],\n",
       "        [1.4512, 2.0882, 2.3179]])"
      ]
     },
     "execution_count": 7,
     "metadata": {},
     "output_type": "execute_result"
    }
   ],
   "source": [
    "dense(torch.rand(2,5))"
   ]
  },
  {
   "cell_type": "code",
   "execution_count": null,
   "id": "f38ba0e0-d742-4743-95ef-078648e430c7",
   "metadata": {},
   "outputs": [],
   "source": []
  },
  {
   "cell_type": "code",
   "execution_count": null,
   "id": "a50f1f22-266a-475b-b138-7cded48b17e3",
   "metadata": {},
   "outputs": [],
   "source": []
  },
  {
   "cell_type": "markdown",
   "id": "ff738654-5d4c-41f1-adf1-6ab9f0ee3a77",
   "metadata": {},
   "source": [
    "# 使用自定义层构建模型"
   ]
  },
  {
   "cell_type": "code",
   "execution_count": 8,
   "id": "00dc6236-d562-4698-95bd-581f696573d5",
   "metadata": {},
   "outputs": [
    {
     "data": {
      "text/plain": [
       "tensor([[75.9176],\n",
       "        [67.6937]])"
      ]
     },
     "execution_count": 8,
     "metadata": {},
     "output_type": "execute_result"
    }
   ],
   "source": [
    "net = nn.Sequential(MyLinear(64,8), MyLinear(8,1))\n",
    "net(torch.rand(2,64))"
   ]
  },
  {
   "cell_type": "code",
   "execution_count": null,
   "id": "a6f2e37a-2fd7-47b4-ae17-02a7c04070d3",
   "metadata": {},
   "outputs": [],
   "source": []
  }
 ],
 "metadata": {
  "kernelspec": {
   "display_name": "Python 3 (ipykernel)",
   "language": "python",
   "name": "python3"
  },
  "language_info": {
   "codemirror_mode": {
    "name": "ipython",
    "version": 3
   },
   "file_extension": ".py",
   "mimetype": "text/x-python",
   "name": "python",
   "nbconvert_exporter": "python",
   "pygments_lexer": "ipython3",
   "version": "3.8.20"
  }
 },
 "nbformat": 4,
 "nbformat_minor": 5
}
