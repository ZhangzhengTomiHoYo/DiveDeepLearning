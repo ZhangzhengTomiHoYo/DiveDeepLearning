{
 "cells": [
  {
   "cell_type": "markdown",
   "id": "f2d1fefa-02f7-4452-9a34-9964c48e6f58",
   "metadata": {},
   "source": [
    "# 实现池化层的正向传播"
   ]
  },
  {
   "cell_type": "code",
   "execution_count": 3,
   "id": "d78d05b4-451c-4a42-8aca-4afd9f289abb",
   "metadata": {},
   "outputs": [],
   "source": [
    "import torch\n",
    "from torch import nn\n",
    "from d2l import torch as d2l"
   ]
  },
  {
   "cell_type": "code",
   "execution_count": 14,
   "id": "9a0f35f6-0dbc-4794-b949-3b19e6270109",
   "metadata": {},
   "outputs": [],
   "source": [
    "def pool2d(X, pool_size, mode='max'):\n",
    "    p_h, p_w = pool_size\n",
    "    # 他这里没有批量 通道数 所以直接X 0 1\n",
    "    Y = torch.zeros((X.shape[0] - p_h + 1, X.shape[1] - p_w + 1))\n",
    "    for i in range(Y.shape[0]):\n",
    "        for j in range(Y.shape[1]):\n",
    "            if mode == 'max':\n",
    "                Y[i, j] = X[i: i+p_h, j: j+p_w].max()\n",
    "            if mode == 'avg':\n",
    "                Y[i, j] = X[i: i+p_h, j: j+p_w].mean()\n",
    "    return Y"
   ]
  },
  {
   "cell_type": "code",
   "execution_count": 15,
   "id": "5dfb923c-f8ae-42ed-b00a-920a727258eb",
   "metadata": {},
   "outputs": [
    {
     "data": {
      "text/plain": [
       "(tensor([[4., 5.],\n",
       "         [7., 8.]]),)"
      ]
     },
     "execution_count": 15,
     "metadata": {},
     "output_type": "execute_result"
    }
   ],
   "source": [
    "X = torch.tensor([[0.0, 1.0, 2.0], [3.0, 4.0, 5.0], [6.0, 7.0, 8.0]])\n",
    "pool2d(X, (2, 2)), "
   ]
  },
  {
   "cell_type": "code",
   "execution_count": 17,
   "id": "f571642a-0f50-4be2-8b7f-c1142a5ca42b",
   "metadata": {},
   "outputs": [
    {
     "data": {
      "text/plain": [
       "tensor([[2., 3.],\n",
       "        [5., 6.]])"
      ]
     },
     "execution_count": 17,
     "metadata": {},
     "output_type": "execute_result"
    }
   ],
   "source": [
    "pool2d(X, (2, 2), 'avg')\n",
    "# 均值永远小于等于最大值"
   ]
  },
  {
   "cell_type": "code",
   "execution_count": null,
   "id": "c8014eb3-a860-4885-8782-ecb19eaa2c08",
   "metadata": {},
   "outputs": [],
   "source": []
  },
  {
   "cell_type": "code",
   "execution_count": null,
   "id": "916f8961-665d-4cd1-a4e9-2b7a7945c04e",
   "metadata": {},
   "outputs": [],
   "source": []
  },
  {
   "cell_type": "code",
   "execution_count": null,
   "id": "a9614d9b-b1a4-44ea-8453-bc4a757c1aac",
   "metadata": {},
   "outputs": [],
   "source": []
  },
  {
   "cell_type": "code",
   "execution_count": null,
   "id": "cd66e287-ca40-4aea-b7d8-11eef9128d45",
   "metadata": {},
   "outputs": [],
   "source": []
  },
  {
   "cell_type": "markdown",
   "id": "9a340b0b-b3ef-4745-a234-43cdecb0f330",
   "metadata": {},
   "source": [
    "# 填充和步幅"
   ]
  },
  {
   "cell_type": "code",
   "execution_count": 28,
   "id": "7cb8d073-c822-4252-9c4d-f89f76463c4c",
   "metadata": {},
   "outputs": [
    {
     "data": {
      "text/plain": [
       "tensor([[[[ 0.,  1.,  2.,  3.],\n",
       "          [ 4.,  5.,  6.,  7.],\n",
       "          [ 8.,  9., 10., 11.],\n",
       "          [12., 13., 14., 15.]]]])"
      ]
     },
     "execution_count": 28,
     "metadata": {},
     "output_type": "execute_result"
    }
   ],
   "source": [
    "X = torch.arange(16, dtype=torch.float32).reshape((1,1,4,4))\n",
    "X"
   ]
  },
  {
   "cell_type": "markdown",
   "id": "c0990932-f239-48e1-9833-61eec2134576",
   "metadata": {},
   "source": [
    "## 深度学习框架中的步幅与池化窗口的大小相同"
   ]
  },
  {
   "cell_type": "code",
   "execution_count": 19,
   "id": "8a0822f1-42e9-4273-9e5f-8bd8d3138f7a",
   "metadata": {},
   "outputs": [],
   "source": [
    "pool2d = nn.MaxPool2d(3)"
   ]
  },
  {
   "cell_type": "code",
   "execution_count": 21,
   "id": "53f809b9-c258-4142-a1bb-ab578e829125",
   "metadata": {},
   "outputs": [
    {
     "data": {
      "text/plain": [
       "tensor([[[[10.]]]])"
      ]
     },
     "execution_count": 21,
     "metadata": {},
     "output_type": "execute_result"
    }
   ],
   "source": [
    "pool2d(X) # 所以就看不了 就一个10"
   ]
  },
  {
   "cell_type": "code",
   "execution_count": null,
   "id": "c8efa41b-1a8f-42f6-a0f8-fe84d2ea3d8a",
   "metadata": {},
   "outputs": [],
   "source": []
  },
  {
   "cell_type": "markdown",
   "id": "0bf5bf42-2bd9-4795-a705-4682cf31cefe",
   "metadata": {},
   "source": [
    "## 填充和步幅可以手动设定"
   ]
  },
  {
   "cell_type": "code",
   "execution_count": 23,
   "id": "af9765af-3296-43dc-bcfc-4d1359625b89",
   "metadata": {},
   "outputs": [
    {
     "data": {
      "text/plain": [
       "(torch.Size([1, 1, 4, 4]),\n",
       " tensor([[[[ 5.,  7.],\n",
       "           [13., 15.]]]]))"
      ]
     },
     "execution_count": 23,
     "metadata": {},
     "output_type": "execute_result"
    }
   ],
   "source": [
    "pool2d = nn.MaxPool2d(3, padding=1, stride=2)\n",
    "X.shape, pool2d(X)"
   ]
  },
  {
   "cell_type": "markdown",
   "id": "7c7d0fd7-3842-4b95-bbf9-58dc56d24c13",
   "metadata": {},
   "source": [
    "## 设定一个任意大小的矩形池化窗口，并分别设定填充和步幅的高度和宽度"
   ]
  },
  {
   "cell_type": "code",
   "execution_count": 24,
   "id": "6d30e5ab-3795-4197-bfa4-79c2aa9f88ba",
   "metadata": {},
   "outputs": [
    {
     "data": {
      "text/plain": [
       "tensor([[[[ 1.,  3.],\n",
       "          [ 9., 11.],\n",
       "          [13., 15.]]]])"
      ]
     },
     "execution_count": 24,
     "metadata": {},
     "output_type": "execute_result"
    }
   ],
   "source": [
    "pool2d = nn.MaxPool2d((2, 3), padding=(1, 1), stride=(2, 3))\n",
    "pool2d(X)\n",
    "\n",
    "# 思考上面两个都是 手动设置填充 和 步幅，使得刚好能填满， X也比较小，所以很容易能想明白，\n",
    "#  但是情况更复杂的时候该怎么办呢"
   ]
  },
  {
   "cell_type": "code",
   "execution_count": null,
   "id": "f9b3a980-71f5-4eb4-963b-d77407417375",
   "metadata": {},
   "outputs": [],
   "source": []
  },
  {
   "cell_type": "code",
   "execution_count": null,
   "id": "4a48c587-99ad-4b99-94c5-6f880773b28d",
   "metadata": {},
   "outputs": [],
   "source": []
  },
  {
   "cell_type": "code",
   "execution_count": null,
   "id": "900111af-7e0f-4209-806f-7803d99fcfb7",
   "metadata": {},
   "outputs": [],
   "source": []
  },
  {
   "cell_type": "code",
   "execution_count": null,
   "id": "c5684fe2-e566-401c-99eb-c9a8ca63ac3b",
   "metadata": {},
   "outputs": [],
   "source": []
  },
  {
   "cell_type": "markdown",
   "id": "be6d5bc3-9789-4309-874e-f8f5ec52815e",
   "metadata": {},
   "source": [
    "# 汇聚层在每个输入通道上单独运算"
   ]
  },
  {
   "cell_type": "code",
   "execution_count": 29,
   "id": "77f96801-2397-4e23-b17e-3da0b5518d6e",
   "metadata": {},
   "outputs": [
    {
     "data": {
      "text/plain": [
       "torch.Size([1, 1, 4, 4])"
      ]
     },
     "execution_count": 29,
     "metadata": {},
     "output_type": "execute_result"
    }
   ],
   "source": [
    "X.shape"
   ]
  },
  {
   "cell_type": "code",
   "execution_count": 30,
   "id": "f6adc21e-aa43-43b8-8299-4cdd9f5526b6",
   "metadata": {},
   "outputs": [
    {
     "data": {
      "text/plain": [
       "(torch.Size([1, 2, 4, 4]),\n",
       " tensor([[[[ 0.,  1.,  2.,  3.],\n",
       "           [ 4.,  5.,  6.,  7.],\n",
       "           [ 8.,  9., 10., 11.],\n",
       "           [12., 13., 14., 15.]],\n",
       " \n",
       "          [[ 1.,  2.,  3.,  4.],\n",
       "           [ 5.,  6.,  7.,  8.],\n",
       "           [ 9., 10., 11., 12.],\n",
       "           [13., 14., 15., 16.]]]]))"
      ]
     },
     "execution_count": 30,
     "metadata": {},
     "output_type": "execute_result"
    }
   ],
   "source": [
    "X = torch.cat((X, X + 1), 1)\n",
    "X.shape ,X"
   ]
  },
  {
   "cell_type": "code",
   "execution_count": 31,
   "id": "d6ad7392-1048-49f0-97b5-0c222215fc0f",
   "metadata": {},
   "outputs": [
    {
     "data": {
      "text/plain": [
       "tensor([[[[ 5.,  7.],\n",
       "          [13., 15.]],\n",
       "\n",
       "         [[ 6.,  8.],\n",
       "          [14., 16.]]]])"
      ]
     },
     "execution_count": 31,
     "metadata": {},
     "output_type": "execute_result"
    }
   ],
   "source": [
    "pool2d = nn.MaxPool2d(3, padding=1, stride=2)\n",
    "pool2d(X)\n"
   ]
  },
  {
   "cell_type": "code",
   "execution_count": null,
   "id": "20547f00-afc9-48df-86b3-07cc66183926",
   "metadata": {},
   "outputs": [],
   "source": []
  },
  {
   "cell_type": "code",
   "execution_count": null,
   "id": "453bf0f5-fe9b-43a5-8b40-cb24d4ce4a9b",
   "metadata": {},
   "outputs": [],
   "source": []
  }
 ],
 "metadata": {
  "kernelspec": {
   "display_name": "Python 3 (ipykernel)",
   "language": "python",
   "name": "python3"
  },
  "language_info": {
   "codemirror_mode": {
    "name": "ipython",
    "version": 3
   },
   "file_extension": ".py",
   "mimetype": "text/x-python",
   "name": "python",
   "nbconvert_exporter": "python",
   "pygments_lexer": "ipython3",
   "version": "3.8.20"
  }
 },
 "nbformat": 4,
 "nbformat_minor": 5
}
